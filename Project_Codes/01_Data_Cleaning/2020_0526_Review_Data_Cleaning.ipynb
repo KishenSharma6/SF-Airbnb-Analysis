{
 "cells": [
  {
   "cell_type": "markdown",
   "metadata": {},
   "source": [
    "### Introduction\n",
    "\n",
    "In the following notebook, I will be cleaning a raw data file of review data from Inside Airbnb and concatenating review scores from a listings file."
   ]
  },
  {
   "cell_type": "markdown",
   "metadata": {},
   "source": [
    "**Read in libraries**"
   ]
  },
  {
   "cell_type": "code",
   "execution_count": 23,
   "metadata": {},
   "outputs": [],
   "source": [
    "import numpy as np\n",
    "import pandas as pd\n",
    "import swifter"
   ]
  },
  {
   "cell_type": "markdown",
   "metadata": {},
   "source": [
    "**Set notebook preferences**"
   ]
  },
  {
   "cell_type": "code",
   "execution_count": 24,
   "metadata": {},
   "outputs": [],
   "source": [
    "#Set pandas preferences\n",
    "pd.set_option('display.max_columns', 200)\n",
    "pd.set_option('display.max_rows', 200)"
   ]
  },
  {
   "cell_type": "markdown",
   "metadata": {},
   "source": [
    "**Read in data**"
   ]
  },
  {
   "cell_type": "code",
   "execution_count": 25,
   "metadata": {},
   "outputs": [],
   "source": [
    "#Set path to data on local machine\n",
    "path = r'C:\\Users\\kishe\\Documents\\Data Science\\Projects\\Python\\In Progress\\Airbnb - San Francisco\\Data\\01_Raw\\SF Airbnb'\n",
    "\n",
    "#Read in data\n",
    "reviews = pd.read_csv(path + '/2020_0526_Aggregated_Reviews.csv',\n",
    "                 parse_dates= ['date'],index_col=0)\n",
    "\n",
    "#Set path to local machine\n",
    "path = r'C:\\Users\\kishe\\Documents\\Data Science\\Projects\\Python\\In Progress\\Airbnb - San Francisco\\Data\\02_Cleaned'\n",
    "\n",
    "#Read in data\n",
    "listings = pd.read_csv(path + '/2020_0520_Listings_Cleaned.csv', index_col=0,\n",
    "                parse_dates=['host_since','last_review'])"
   ]
  },
  {
   "cell_type": "markdown",
   "metadata": {},
   "source": [
    "### Data Overview"
   ]
  },
  {
   "cell_type": "markdown",
   "metadata": {},
   "source": [
    "**Preview Data**"
   ]
  },
  {
   "cell_type": "code",
   "execution_count": 26,
   "metadata": {},
   "outputs": [
    {
     "name": "stdout",
     "output_type": "stream",
     "text": [
      "Review data shape: (466004, 6)\n"
     ]
    },
    {
     "data": {
      "text/html": [
       "<div>\n",
       "<style scoped>\n",
       "    .dataframe tbody tr th:only-of-type {\n",
       "        vertical-align: middle;\n",
       "    }\n",
       "\n",
       "    .dataframe tbody tr th {\n",
       "        vertical-align: top;\n",
       "    }\n",
       "\n",
       "    .dataframe thead th {\n",
       "        text-align: right;\n",
       "    }\n",
       "</style>\n",
       "<table border=\"1\" class=\"dataframe\">\n",
       "  <thead>\n",
       "    <tr style=\"text-align: right;\">\n",
       "      <th></th>\n",
       "      <th>comments</th>\n",
       "      <th>date</th>\n",
       "      <th>id</th>\n",
       "      <th>listing_id</th>\n",
       "      <th>reviewer_id</th>\n",
       "      <th>reviewer_name</th>\n",
       "    </tr>\n",
       "  </thead>\n",
       "  <tbody>\n",
       "    <tr>\n",
       "      <th>0</th>\n",
       "      <td>Our experience was, without a doubt, a five st...</td>\n",
       "      <td>2009-07-23</td>\n",
       "      <td>5977</td>\n",
       "      <td>958</td>\n",
       "      <td>15695</td>\n",
       "      <td>Edmund C</td>\n",
       "    </tr>\n",
       "    <tr>\n",
       "      <th>1</th>\n",
       "      <td>Returning to San Francisco is a rejuvenating t...</td>\n",
       "      <td>2009-08-03</td>\n",
       "      <td>6660</td>\n",
       "      <td>958</td>\n",
       "      <td>26145</td>\n",
       "      <td>Simon</td>\n",
       "    </tr>\n",
       "    <tr>\n",
       "      <th>2</th>\n",
       "      <td>We were very pleased with the accommodations a...</td>\n",
       "      <td>2009-09-27</td>\n",
       "      <td>11519</td>\n",
       "      <td>958</td>\n",
       "      <td>25839</td>\n",
       "      <td>Denis</td>\n",
       "    </tr>\n",
       "  </tbody>\n",
       "</table>\n",
       "</div>"
      ],
      "text/plain": [
       "                                            comments       date     id  \\\n",
       "0  Our experience was, without a doubt, a five st... 2009-07-23   5977   \n",
       "1  Returning to San Francisco is a rejuvenating t... 2009-08-03   6660   \n",
       "2  We were very pleased with the accommodations a... 2009-09-27  11519   \n",
       "\n",
       "   listing_id  reviewer_id reviewer_name  \n",
       "0         958        15695      Edmund C  \n",
       "1         958        26145         Simon  \n",
       "2         958        25839         Denis  "
      ]
     },
     "metadata": {},
     "output_type": "display_data"
    }
   ],
   "source": [
    "#Display data, print shape\n",
    "print('Review data shape:', reviews.shape)\n",
    "display(reviews.head(3))"
   ]
  },
  {
   "cell_type": "markdown",
   "metadata": {},
   "source": [
    "**View data description**"
   ]
  },
  {
   "cell_type": "code",
   "execution_count": 27,
   "metadata": {},
   "outputs": [
    {
     "name": "stdout",
     "output_type": "stream",
     "text": [
      "<class 'pandas.core.frame.DataFrame'>\n",
      "Int64Index: 466004 entries, 0 to 359216\n",
      "Data columns (total 6 columns):\n",
      " #   Column         Non-Null Count   Dtype         \n",
      "---  ------         --------------   -----         \n",
      " 0   comments       465824 non-null  object        \n",
      " 1   date           466004 non-null  datetime64[ns]\n",
      " 2   id             466004 non-null  int64         \n",
      " 3   listing_id     466004 non-null  int64         \n",
      " 4   reviewer_id    466004 non-null  int64         \n",
      " 5   reviewer_name  466003 non-null  object        \n",
      "dtypes: datetime64[ns](1), int64(3), object(2)\n",
      "memory usage: 24.9+ MB\n"
     ]
    }
   ],
   "source": [
    "#View data description\n",
    "reviews.info()"
   ]
  },
  {
   "cell_type": "markdown",
   "metadata": {},
   "source": [
    "## Data Cleaning"
   ]
  },
  {
   "cell_type": "markdown",
   "metadata": {},
   "source": [
    "### Drop Columns"
   ]
  },
  {
   "cell_type": "markdown",
   "metadata": {},
   "source": [
    "**Subset cols from Listings for merge**"
   ]
  },
  {
   "cell_type": "code",
   "execution_count": 28,
   "metadata": {},
   "outputs": [
    {
     "data": {
      "text/html": [
       "<div>\n",
       "<style scoped>\n",
       "    .dataframe tbody tr th:only-of-type {\n",
       "        vertical-align: middle;\n",
       "    }\n",
       "\n",
       "    .dataframe tbody tr th {\n",
       "        vertical-align: top;\n",
       "    }\n",
       "\n",
       "    .dataframe thead th {\n",
       "        text-align: right;\n",
       "    }\n",
       "</style>\n",
       "<table border=\"1\" class=\"dataframe\">\n",
       "  <thead>\n",
       "    <tr style=\"text-align: right;\">\n",
       "      <th></th>\n",
       "      <th>id</th>\n",
       "      <th>review_scores_rating</th>\n",
       "      <th>last_review</th>\n",
       "      <th>host_id</th>\n",
       "      <th>host_name</th>\n",
       "    </tr>\n",
       "  </thead>\n",
       "  <tbody>\n",
       "    <tr>\n",
       "      <th>0</th>\n",
       "      <td>958</td>\n",
       "      <td>97.0</td>\n",
       "      <td>2020-03-13</td>\n",
       "      <td>1169</td>\n",
       "      <td>Holly</td>\n",
       "    </tr>\n",
       "    <tr>\n",
       "      <th>1</th>\n",
       "      <td>5858</td>\n",
       "      <td>98.0</td>\n",
       "      <td>2017-08-06</td>\n",
       "      <td>8904</td>\n",
       "      <td>Philip And Tania</td>\n",
       "    </tr>\n",
       "    <tr>\n",
       "      <th>2</th>\n",
       "      <td>7918</td>\n",
       "      <td>84.0</td>\n",
       "      <td>2020-03-06</td>\n",
       "      <td>21994</td>\n",
       "      <td>Aaron</td>\n",
       "    </tr>\n",
       "    <tr>\n",
       "      <th>3</th>\n",
       "      <td>8142</td>\n",
       "      <td>93.0</td>\n",
       "      <td>2018-09-12</td>\n",
       "      <td>21994</td>\n",
       "      <td>Aaron</td>\n",
       "    </tr>\n",
       "    <tr>\n",
       "      <th>4</th>\n",
       "      <td>8339</td>\n",
       "      <td>97.0</td>\n",
       "      <td>2019-06-28</td>\n",
       "      <td>24215</td>\n",
       "      <td>Rosy</td>\n",
       "    </tr>\n",
       "  </tbody>\n",
       "</table>\n",
       "</div>"
      ],
      "text/plain": [
       "     id  review_scores_rating last_review  host_id         host_name\n",
       "0   958                  97.0  2020-03-13     1169             Holly\n",
       "1  5858                  98.0  2017-08-06     8904  Philip And Tania\n",
       "2  7918                  84.0  2020-03-06    21994             Aaron\n",
       "3  8142                  93.0  2018-09-12    21994             Aaron\n",
       "4  8339                  97.0  2019-06-28    24215              Rosy"
      ]
     },
     "metadata": {},
     "output_type": "display_data"
    }
   ],
   "source": [
    "#Subset\n",
    "listings = listings[['id','review_scores_rating','last_review','host_id','host_name']]\n",
    "\n",
    "#Check\n",
    "display(listings.head())"
   ]
  },
  {
   "cell_type": "markdown",
   "metadata": {},
   "source": [
    "### Merge Data"
   ]
  },
  {
   "cell_type": "code",
   "execution_count": 29,
   "metadata": {},
   "outputs": [
    {
     "data": {
      "text/html": [
       "<div>\n",
       "<style scoped>\n",
       "    .dataframe tbody tr th:only-of-type {\n",
       "        vertical-align: middle;\n",
       "    }\n",
       "\n",
       "    .dataframe tbody tr th {\n",
       "        vertical-align: top;\n",
       "    }\n",
       "\n",
       "    .dataframe thead th {\n",
       "        text-align: right;\n",
       "    }\n",
       "</style>\n",
       "<table border=\"1\" class=\"dataframe\">\n",
       "  <thead>\n",
       "    <tr style=\"text-align: right;\">\n",
       "      <th></th>\n",
       "      <th>comments</th>\n",
       "      <th>date</th>\n",
       "      <th>listing_id</th>\n",
       "      <th>reviewer_id</th>\n",
       "      <th>reviewer_name</th>\n",
       "      <th>review_scores_rating</th>\n",
       "      <th>host_id</th>\n",
       "      <th>host_name</th>\n",
       "    </tr>\n",
       "  </thead>\n",
       "  <tbody>\n",
       "    <tr>\n",
       "      <th>184</th>\n",
       "      <td>Holly's place is in a prime location with ever...</td>\n",
       "      <td>2019-04-17</td>\n",
       "      <td>958</td>\n",
       "      <td>27129990</td>\n",
       "      <td>Brian</td>\n",
       "      <td>97.0</td>\n",
       "      <td>1169.0</td>\n",
       "      <td>Holly</td>\n",
       "    </tr>\n",
       "    <tr>\n",
       "      <th>191</th>\n",
       "      <td>On a very quiet residential street, but close ...</td>\n",
       "      <td>2019-05-16</td>\n",
       "      <td>958</td>\n",
       "      <td>45838839</td>\n",
       "      <td>Lucy</td>\n",
       "      <td>97.0</td>\n",
       "      <td>1169.0</td>\n",
       "      <td>Holly</td>\n",
       "    </tr>\n",
       "    <tr>\n",
       "      <th>193</th>\n",
       "      <td>We recently stayed at Holly's place and it was...</td>\n",
       "      <td>2019-05-31</td>\n",
       "      <td>958</td>\n",
       "      <td>138005765</td>\n",
       "      <td>Rachel</td>\n",
       "      <td>97.0</td>\n",
       "      <td>1169.0</td>\n",
       "      <td>Holly</td>\n",
       "    </tr>\n",
       "    <tr>\n",
       "      <th>198</th>\n",
       "      <td>Clean, quiet, has all the amenities you need f...</td>\n",
       "      <td>2019-07-19</td>\n",
       "      <td>958</td>\n",
       "      <td>11709118</td>\n",
       "      <td>Anna</td>\n",
       "      <td>97.0</td>\n",
       "      <td>1169.0</td>\n",
       "      <td>Holly</td>\n",
       "    </tr>\n",
       "    <tr>\n",
       "      <th>209</th>\n",
       "      <td>This place is great! It was perfect for my qui...</td>\n",
       "      <td>2019-08-28</td>\n",
       "      <td>958</td>\n",
       "      <td>70436481</td>\n",
       "      <td>Nathan</td>\n",
       "      <td>97.0</td>\n",
       "      <td>1169.0</td>\n",
       "      <td>Holly</td>\n",
       "    </tr>\n",
       "  </tbody>\n",
       "</table>\n",
       "</div>"
      ],
      "text/plain": [
       "                                              comments       date  listing_id  \\\n",
       "184  Holly's place is in a prime location with ever... 2019-04-17         958   \n",
       "191  On a very quiet residential street, but close ... 2019-05-16         958   \n",
       "193  We recently stayed at Holly's place and it was... 2019-05-31         958   \n",
       "198  Clean, quiet, has all the amenities you need f... 2019-07-19         958   \n",
       "209  This place is great! It was perfect for my qui... 2019-08-28         958   \n",
       "\n",
       "     reviewer_id reviewer_name  review_scores_rating  host_id host_name  \n",
       "184     27129990         Brian                  97.0   1169.0     Holly  \n",
       "191     45838839          Lucy                  97.0   1169.0     Holly  \n",
       "193    138005765        Rachel                  97.0   1169.0     Holly  \n",
       "198     11709118          Anna                  97.0   1169.0     Holly  \n",
       "209     70436481        Nathan                  97.0   1169.0     Holly  "
      ]
     },
     "metadata": {},
     "output_type": "display_data"
    }
   ],
   "source": [
    "#Merge review and listings data\n",
    "merged_df = pd.merge(left = reviews, right=listings, how = 'left', left_on=['listing_id','date'], right_on=['id', 'last_review'])\n",
    "\n",
    "#Remove rows where review_scores_rating is na. Drop unnecessary cols and drop dupes\n",
    "merged_df = merged_df[~merged_df.review_scores_rating.isna()]\n",
    "merged_df.drop(['last_review', 'id_x','id_y'], inplace =True, axis=1)\n",
    "merged_df.drop_duplicates(inplace=True)\n",
    "\n",
    "#Check\n",
    "display(merged_df.head())"
   ]
  },
  {
   "cell_type": "markdown",
   "metadata": {},
   "source": [
    "### Write CSV"
   ]
  },
  {
   "cell_type": "code",
   "execution_count": 30,
   "metadata": {},
   "outputs": [
    {
     "name": "stdout",
     "output_type": "stream",
     "text": [
      "Data shape: (40178, 8)\n"
     ]
    }
   ],
   "source": [
    "#Print merged_df shape\n",
    "print(\"Data shape:\", merged_df.shape)\n",
    "\n",
    "#Set path and write file\n",
    "path = r'C:\\Users\\kishe\\Documents\\Data Science\\Projects\\Python\\In Progress\\Airbnb - San Francisco\\Data\\02_Cleaned'\n",
    "merged_df.to_csv(path + '/2020_0526_Reviews_Cleaned.csv')"
   ]
  }
 ],
 "metadata": {
  "kernelspec": {
   "display_name": "EDA",
   "language": "python",
   "name": "eda"
  },
  "language_info": {
   "codemirror_mode": {
    "name": "ipython",
    "version": 3
   },
   "file_extension": ".py",
   "mimetype": "text/x-python",
   "name": "python",
   "nbconvert_exporter": "python",
   "pygments_lexer": "ipython3",
   "version": "3.8.2"
  }
 },
 "nbformat": 4,
 "nbformat_minor": 4
}
