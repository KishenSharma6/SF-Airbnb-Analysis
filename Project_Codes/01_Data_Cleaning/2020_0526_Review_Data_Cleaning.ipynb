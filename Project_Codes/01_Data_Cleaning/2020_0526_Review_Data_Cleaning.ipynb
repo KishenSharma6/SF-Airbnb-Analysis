{
 "cells": [
  {
   "cell_type": "markdown",
   "metadata": {},
   "source": [
    "### Introduction\n",
    "\n",
    "In the following notebook, I will be cleaning a raw data file of review data from Inside Airbnb and concatenating review scores from a listings file."
   ]
  },
  {
   "cell_type": "markdown",
   "metadata": {},
   "source": [
    "**Read in libraries**"
   ]
  },
  {
   "cell_type": "code",
   "execution_count": 9,
   "metadata": {},
   "outputs": [],
   "source": [
    "import numpy as np\n",
    "import pandas as pd"
   ]
  },
  {
   "cell_type": "markdown",
   "metadata": {},
   "source": [
    "**Read in data**"
   ]
  },
  {
   "cell_type": "code",
   "execution_count": 10,
   "metadata": {},
   "outputs": [],
   "source": [
    "#Set path to data on local machine\n",
    "path = r'C:\\Users\\kishe\\Documents\\Data Science\\Projects\\Python\\In Progress\\Airbnb - San Francisco\\Data\\01_Raw\\SF Airbnb'\n",
    "\n",
    "#Read in data\n",
    "reviews = pd.read_csv(path + '/2020_0526_Aggregated_Reviews.csv',\n",
    "                 parse_dates= ['date'],index_col=0)\n",
    "\n",
    "#Set path to local machine\n",
    "path = r'C:\\Users\\kishe\\Documents\\Data Science\\Projects\\Python\\In Progress\\Airbnb - San Francisco\\Data\\02_Cleaned'\n",
    "\n",
    "#Read in data\n",
    "listings = pd.read_csv(path + '/2020_0520_Listings_Cleaned.csv', index_col=0,\n",
    "                parse_dates=['host_since','last_review'])"
   ]
  },
  {
   "cell_type": "markdown",
   "metadata": {},
   "source": [
    "### Data Overview"
   ]
  },
  {
   "cell_type": "markdown",
   "metadata": {},
   "source": [
    "**Preview Data**"
   ]
  },
  {
   "cell_type": "code",
   "execution_count": 11,
   "metadata": {},
   "outputs": [
    {
     "name": "stdout",
     "output_type": "stream",
     "text": [
      "Review data shape: (466004, 6)\n"
     ]
    },
    {
     "data": {
      "text/html": [
       "<div>\n",
       "<style scoped>\n",
       "    .dataframe tbody tr th:only-of-type {\n",
       "        vertical-align: middle;\n",
       "    }\n",
       "\n",
       "    .dataframe tbody tr th {\n",
       "        vertical-align: top;\n",
       "    }\n",
       "\n",
       "    .dataframe thead th {\n",
       "        text-align: right;\n",
       "    }\n",
       "</style>\n",
       "<table border=\"1\" class=\"dataframe\">\n",
       "  <thead>\n",
       "    <tr style=\"text-align: right;\">\n",
       "      <th></th>\n",
       "      <th>comments</th>\n",
       "      <th>date</th>\n",
       "      <th>id</th>\n",
       "      <th>listing_id</th>\n",
       "      <th>reviewer_id</th>\n",
       "      <th>reviewer_name</th>\n",
       "    </tr>\n",
       "  </thead>\n",
       "  <tbody>\n",
       "    <tr>\n",
       "      <th>0</th>\n",
       "      <td>Our experience was, without a doubt, a five st...</td>\n",
       "      <td>2009-07-23</td>\n",
       "      <td>5977</td>\n",
       "      <td>958</td>\n",
       "      <td>15695</td>\n",
       "      <td>Edmund C</td>\n",
       "    </tr>\n",
       "    <tr>\n",
       "      <th>1</th>\n",
       "      <td>Returning to San Francisco is a rejuvenating t...</td>\n",
       "      <td>2009-08-03</td>\n",
       "      <td>6660</td>\n",
       "      <td>958</td>\n",
       "      <td>26145</td>\n",
       "      <td>Simon</td>\n",
       "    </tr>\n",
       "    <tr>\n",
       "      <th>2</th>\n",
       "      <td>We were very pleased with the accommodations a...</td>\n",
       "      <td>2009-09-27</td>\n",
       "      <td>11519</td>\n",
       "      <td>958</td>\n",
       "      <td>25839</td>\n",
       "      <td>Denis</td>\n",
       "    </tr>\n",
       "  </tbody>\n",
       "</table>\n",
       "</div>"
      ],
      "text/plain": [
       "                                            comments       date     id  \\\n",
       "0  Our experience was, without a doubt, a five st... 2009-07-23   5977   \n",
       "1  Returning to San Francisco is a rejuvenating t... 2009-08-03   6660   \n",
       "2  We were very pleased with the accommodations a... 2009-09-27  11519   \n",
       "\n",
       "   listing_id  reviewer_id reviewer_name  \n",
       "0         958        15695      Edmund C  \n",
       "1         958        26145         Simon  \n",
       "2         958        25839         Denis  "
      ]
     },
     "metadata": {},
     "output_type": "display_data"
    }
   ],
   "source": [
    "#Display data, print shape\n",
    "print('Review data shape:', reviews.shape)\n",
    "display(reviews.head(3))"
   ]
  },
  {
   "cell_type": "markdown",
   "metadata": {},
   "source": [
    "**View data description**"
   ]
  },
  {
   "cell_type": "code",
   "execution_count": 12,
   "metadata": {},
   "outputs": [
    {
     "name": "stdout",
     "output_type": "stream",
     "text": [
      "<class 'pandas.core.frame.DataFrame'>\n",
      "Int64Index: 466004 entries, 0 to 359216\n",
      "Data columns (total 6 columns):\n",
      " #   Column         Non-Null Count   Dtype         \n",
      "---  ------         --------------   -----         \n",
      " 0   comments       465824 non-null  object        \n",
      " 1   date           466004 non-null  datetime64[ns]\n",
      " 2   id             466004 non-null  int64         \n",
      " 3   listing_id     466004 non-null  int64         \n",
      " 4   reviewer_id    466004 non-null  int64         \n",
      " 5   reviewer_name  466003 non-null  object        \n",
      "dtypes: datetime64[ns](1), int64(3), object(2)\n",
      "memory usage: 24.9+ MB\n"
     ]
    }
   ],
   "source": [
    "#View data description\n",
    "reviews.info()"
   ]
  },
  {
   "cell_type": "markdown",
   "metadata": {},
   "source": [
    "## Data Cleaning"
   ]
  },
  {
   "cell_type": "markdown",
   "metadata": {},
   "source": [
    "### Drop Columns"
   ]
  },
  {
   "cell_type": "markdown",
   "metadata": {},
   "source": [
    "**Subset cols from Listings for merge**"
   ]
  },
  {
   "cell_type": "code",
   "execution_count": 13,
   "metadata": {},
   "outputs": [
    {
     "data": {
      "text/html": [
       "<div>\n",
       "<style scoped>\n",
       "    .dataframe tbody tr th:only-of-type {\n",
       "        vertical-align: middle;\n",
       "    }\n",
       "\n",
       "    .dataframe tbody tr th {\n",
       "        vertical-align: top;\n",
       "    }\n",
       "\n",
       "    .dataframe thead th {\n",
       "        text-align: right;\n",
       "    }\n",
       "</style>\n",
       "<table border=\"1\" class=\"dataframe\">\n",
       "  <thead>\n",
       "    <tr style=\"text-align: right;\">\n",
       "      <th></th>\n",
       "      <th>id</th>\n",
       "      <th>review_scores_rating</th>\n",
       "      <th>last_review</th>\n",
       "      <th>host_id</th>\n",
       "    </tr>\n",
       "  </thead>\n",
       "  <tbody>\n",
       "    <tr>\n",
       "      <th>0</th>\n",
       "      <td>958</td>\n",
       "      <td>97.0</td>\n",
       "      <td>2020-03-13</td>\n",
       "      <td>1169</td>\n",
       "    </tr>\n",
       "    <tr>\n",
       "      <th>1</th>\n",
       "      <td>5858</td>\n",
       "      <td>98.0</td>\n",
       "      <td>2017-08-06</td>\n",
       "      <td>8904</td>\n",
       "    </tr>\n",
       "    <tr>\n",
       "      <th>2</th>\n",
       "      <td>7918</td>\n",
       "      <td>84.0</td>\n",
       "      <td>2020-03-06</td>\n",
       "      <td>21994</td>\n",
       "    </tr>\n",
       "    <tr>\n",
       "      <th>3</th>\n",
       "      <td>8142</td>\n",
       "      <td>93.0</td>\n",
       "      <td>2018-09-12</td>\n",
       "      <td>21994</td>\n",
       "    </tr>\n",
       "    <tr>\n",
       "      <th>4</th>\n",
       "      <td>8339</td>\n",
       "      <td>97.0</td>\n",
       "      <td>2019-06-28</td>\n",
       "      <td>24215</td>\n",
       "    </tr>\n",
       "  </tbody>\n",
       "</table>\n",
       "</div>"
      ],
      "text/plain": [
       "     id review_scores_rating last_review  host_id\n",
       "0   958                 97.0  2020-03-13     1169\n",
       "1  5858                 98.0  2017-08-06     8904\n",
       "2  7918                 84.0  2020-03-06    21994\n",
       "3  8142                 93.0  2018-09-12    21994\n",
       "4  8339                 97.0  2019-06-28    24215"
      ]
     },
     "metadata": {},
     "output_type": "display_data"
    }
   ],
   "source": [
    "#Subset\n",
    "listings = listings[['id','review_scores_rating','last_review','host_id']]\n",
    "\n",
    "#Check\n",
    "display(listings.head())"
   ]
  },
  {
   "cell_type": "markdown",
   "metadata": {},
   "source": [
    "### Merge Data"
   ]
  },
  {
   "cell_type": "code",
   "execution_count": 14,
   "metadata": {},
   "outputs": [
    {
     "data": {
      "text/html": [
       "<div>\n",
       "<style scoped>\n",
       "    .dataframe tbody tr th:only-of-type {\n",
       "        vertical-align: middle;\n",
       "    }\n",
       "\n",
       "    .dataframe tbody tr th {\n",
       "        vertical-align: top;\n",
       "    }\n",
       "\n",
       "    .dataframe thead th {\n",
       "        text-align: right;\n",
       "    }\n",
       "</style>\n",
       "<table border=\"1\" class=\"dataframe\">\n",
       "  <thead>\n",
       "    <tr style=\"text-align: right;\">\n",
       "      <th></th>\n",
       "      <th>comments</th>\n",
       "      <th>date</th>\n",
       "      <th>listing_id</th>\n",
       "      <th>reviewer_id</th>\n",
       "      <th>review_scores_rating</th>\n",
       "      <th>host_id</th>\n",
       "    </tr>\n",
       "  </thead>\n",
       "  <tbody>\n",
       "    <tr>\n",
       "      <th>7790</th>\n",
       "      <td>Paul has a super nice place and is a super nic...</td>\n",
       "      <td>2010-10-04</td>\n",
       "      <td>44680</td>\n",
       "      <td>140276</td>\n",
       "      <td>100.0</td>\n",
       "      <td>196626.0</td>\n",
       "    </tr>\n",
       "    <tr>\n",
       "      <th>10317</th>\n",
       "      <td>Did not stay here. There was a challenge that ...</td>\n",
       "      <td>2011-05-23</td>\n",
       "      <td>59831</td>\n",
       "      <td>501557</td>\n",
       "      <td>20.0</td>\n",
       "      <td>287859.0</td>\n",
       "    </tr>\n",
       "    <tr>\n",
       "      <th>12146</th>\n",
       "      <td>He's great. Location is perfect, especially if...</td>\n",
       "      <td>2011-09-30</td>\n",
       "      <td>71779</td>\n",
       "      <td>654056</td>\n",
       "      <td>60.0</td>\n",
       "      <td>368770.0</td>\n",
       "    </tr>\n",
       "    <tr>\n",
       "      <th>27172</th>\n",
       "      <td>Rebecca's studio is great. I felt completely a...</td>\n",
       "      <td>2011-11-23</td>\n",
       "      <td>261358</td>\n",
       "      <td>1395774</td>\n",
       "      <td>80.0</td>\n",
       "      <td>1257432.0</td>\n",
       "    </tr>\n",
       "    <tr>\n",
       "      <th>507880</th>\n",
       "      <td>Susie is a great hostess, very attentive and a...</td>\n",
       "      <td>2012-02-04</td>\n",
       "      <td>284811</td>\n",
       "      <td>1434864</td>\n",
       "      <td>80.0</td>\n",
       "      <td>1427641.0</td>\n",
       "    </tr>\n",
       "  </tbody>\n",
       "</table>\n",
       "</div>"
      ],
      "text/plain": [
       "                                                 comments       date  \\\n",
       "7790    Paul has a super nice place and is a super nic... 2010-10-04   \n",
       "10317   Did not stay here. There was a challenge that ... 2011-05-23   \n",
       "12146   He's great. Location is perfect, especially if... 2011-09-30   \n",
       "27172   Rebecca's studio is great. I felt completely a... 2011-11-23   \n",
       "507880  Susie is a great hostess, very attentive and a... 2012-02-04   \n",
       "\n",
       "        listing_id  reviewer_id review_scores_rating    host_id  \n",
       "7790         44680       140276                100.0   196626.0  \n",
       "10317        59831       501557                 20.0   287859.0  \n",
       "12146        71779       654056                 60.0   368770.0  \n",
       "27172       261358      1395774                 80.0  1257432.0  \n",
       "507880      284811      1434864                 80.0  1427641.0  "
      ]
     },
     "metadata": {},
     "output_type": "display_data"
    }
   ],
   "source": [
    "#Merge review and listings data\n",
    "merged_df = pd.merge(left = reviews, right=listings, how = 'left', left_on=['listing_id','date'], right_on=['id', 'last_review'])\n",
    "\n",
    "#Remove rows where review_scores_rating is na. Drop unnecessary cols and drop dupes\n",
    "merged_df = merged_df[~merged_df.review_scores_rating.isna()]\n",
    "merged_df.drop(['last_review','reviewer_name', 'id_x','id_y'], inplace =True, axis=1)\n",
    "merged_df.drop_duplicates(inplace=True)\n",
    "\n",
    "#Sort data by date\n",
    "merged_df.sort_values(by='date', inplace = True)\n",
    "\n",
    "#Check\n",
    "display(merged_df.head())"
   ]
  },
  {
   "cell_type": "markdown",
   "metadata": {},
   "source": [
    "### Missing Values"
   ]
  },
  {
   "cell_type": "code",
   "execution_count": 15,
   "metadata": {},
   "outputs": [
    {
     "data": {
      "text/plain": [
       "comments                30\n",
       "date                     0\n",
       "listing_id               0\n",
       "reviewer_id              0\n",
       "review_scores_rating     0\n",
       "host_id                  0\n",
       "dtype: int64"
      ]
     },
     "execution_count": 15,
     "metadata": {},
     "output_type": "execute_result"
    }
   ],
   "source": [
    "#View missing values\n",
    "merged_df.isna().sum()"
   ]
  },
  {
   "cell_type": "code",
   "execution_count": 16,
   "metadata": {},
   "outputs": [],
   "source": [
    "#Drop NA\n",
    "merged_df.dropna(inplace=True)"
   ]
  },
  {
   "cell_type": "markdown",
   "metadata": {},
   "source": [
    "### Write CSV"
   ]
  },
  {
   "cell_type": "code",
   "execution_count": 17,
   "metadata": {},
   "outputs": [
    {
     "name": "stdout",
     "output_type": "stream",
     "text": [
      "Data shape: (39943, 6)\n"
     ]
    }
   ],
   "source": [
    "#Print merged_df shape\n",
    "print(\"Data shape:\", merged_df.shape)\n",
    "\n",
    "#Set path and write file\n",
    "path = r'C:\\Users\\kishe\\Documents\\Data Science\\Projects\\Python\\In Progress\\Airbnb - San Francisco\\Data\\02_Cleaned'\n",
    "merged_df.to_csv(path + '/2020_0526_Reviews_Cleaned.csv')"
   ]
  }
 ],
 "metadata": {
  "kernelspec": {
   "display_name": "NLP",
   "language": "python",
   "name": "nlp"
  },
  "language_info": {
   "codemirror_mode": {
    "name": "ipython",
    "version": 3
   },
   "file_extension": ".py",
   "mimetype": "text/x-python",
   "name": "python",
   "nbconvert_exporter": "python",
   "pygments_lexer": "ipython3",
   "version": "3.7.7"
  }
 },
 "nbformat": 4,
 "nbformat_minor": 4
}
