{
 "cells": [
  {
   "cell_type": "markdown",
   "metadata": {},
   "source": [
    "### Introduction\n",
    "\n",
    "In the following notebook, I will be preprocesing Reviews data from Airbnb for later modeling"
   ]
  },
  {
   "cell_type": "markdown",
   "metadata": {},
   "source": [
    "**Import libraries**"
   ]
  },
  {
   "cell_type": "code",
   "execution_count": 1,
   "metadata": {},
   "outputs": [],
   "source": [
    "import pandas as pd\n",
    "import swifter\n",
    "import spacy\n",
    "import warnings"
   ]
  },
  {
   "cell_type": "markdown",
   "metadata": {},
   "source": [
    "**Set notebook preferences**"
   ]
  },
  {
   "cell_type": "code",
   "execution_count": 2,
   "metadata": {},
   "outputs": [],
   "source": [
    "#Set pandas preferences\n",
    "pd.set_option('display.max_colwidth', 500)\n",
    "pd.set_option('display.max_rows', 200)\n",
    "\n",
    "#Surpress warnings\n",
    "warnings.filterwarnings('ignore')"
   ]
  },
  {
   "cell_type": "markdown",
   "metadata": {},
   "source": [
    "**Read in data**"
   ]
  },
  {
   "cell_type": "code",
   "execution_count": 3,
   "metadata": {},
   "outputs": [],
   "source": [
    "#Set path to reviews data\n",
    "path = r'C:\\Users\\kishe\\Documents\\Data Science\\Projects\\Python\\In Progress\\Airbnb - San Francisco\\Data\\02_Cleaned'\n",
    "\n",
    "#Read in reviews data\n",
    "df = pd.read_csv(path + '/2020_0526_Reviews_Cleaned.csv', parse_dates=['date'], dtype = {'host_id':'int'},\n",
    "                 index_col=0)"
   ]
  },
  {
   "cell_type": "markdown",
   "metadata": {},
   "source": [
    "**Preview data**"
   ]
  },
  {
   "cell_type": "code",
   "execution_count": 4,
   "metadata": {},
   "outputs": [
    {
     "name": "stdout",
     "output_type": "stream",
     "text": [
      "Data shape: (39192, 7)\n"
     ]
    },
    {
     "data": {
      "text/html": [
       "<div>\n",
       "<style scoped>\n",
       "    .dataframe tbody tr th:only-of-type {\n",
       "        vertical-align: middle;\n",
       "    }\n",
       "\n",
       "    .dataframe tbody tr th {\n",
       "        vertical-align: top;\n",
       "    }\n",
       "\n",
       "    .dataframe thead th {\n",
       "        text-align: right;\n",
       "    }\n",
       "</style>\n",
       "<table border=\"1\" class=\"dataframe\">\n",
       "  <thead>\n",
       "    <tr style=\"text-align: right;\">\n",
       "      <th></th>\n",
       "      <th>comments</th>\n",
       "      <th>date</th>\n",
       "      <th>listing_id</th>\n",
       "      <th>reviewer_id</th>\n",
       "      <th>review_scores_rating</th>\n",
       "      <th>host_id</th>\n",
       "      <th>language</th>\n",
       "    </tr>\n",
       "  </thead>\n",
       "  <tbody>\n",
       "    <tr>\n",
       "      <th>7790</th>\n",
       "      <td>Paul has a super nice place and is a super nice guy. The apartment is extremely clean and has an excellent location nestled between the Mission and Noe Valley. Definitely recommend his apartment!</td>\n",
       "      <td>2010-10-04</td>\n",
       "      <td>44680</td>\n",
       "      <td>140276</td>\n",
       "      <td>100.0</td>\n",
       "      <td>196626</td>\n",
       "      <td>en</td>\n",
       "    </tr>\n",
       "    <tr>\n",
       "      <th>10317</th>\n",
       "      <td>Did not stay here. There was a challenge that was not resolved. Inflexible personality. I asked for and Lawrence refused to refund anything..  Mumbled under his breath how 'rediculous' we were.</td>\n",
       "      <td>2011-05-23</td>\n",
       "      <td>59831</td>\n",
       "      <td>501557</td>\n",
       "      <td>20.0</td>\n",
       "      <td>287859</td>\n",
       "      <td>en</td>\n",
       "    </tr>\n",
       "    <tr>\n",
       "      <th>12146</th>\n",
       "      <td>He's great. Location is perfect, especially if you have a bicycle.</td>\n",
       "      <td>2011-09-30</td>\n",
       "      <td>71779</td>\n",
       "      <td>654056</td>\n",
       "      <td>60.0</td>\n",
       "      <td>368770</td>\n",
       "      <td>en</td>\n",
       "    </tr>\n",
       "    <tr>\n",
       "      <th>27172</th>\n",
       "      <td>Rebecca's studio is great. I felt completely at home with all the comforts and amenities that one could expect. Both the building and studio are very clean, modern and convenient to public transportation and San Francisco. Rebecca was very helpful and accommodating. I'd stay at her place again and would recommend anyone visiting SF to consider it as an excellent alternative to a hotel, especially if you prefer a modern accommodation.</td>\n",
       "      <td>2011-11-23</td>\n",
       "      <td>261358</td>\n",
       "      <td>1395774</td>\n",
       "      <td>80.0</td>\n",
       "      <td>1257432</td>\n",
       "      <td>en</td>\n",
       "    </tr>\n",
       "    <tr>\n",
       "      <th>507880</th>\n",
       "      <td>Susie is a great hostess, very attentive and also gave me my privacy when I needed it. Unfortunately for things beyond her control, some kind of machinery malfunction or something from another apt, best we could figure, the room wasn't very quiet at night during the week I stayed. But otherwise it is a lovely place and I would return.\\r\\nSusie is very nice and has a loveable pooch Zoey!</td>\n",
       "      <td>2012-02-04</td>\n",
       "      <td>284811</td>\n",
       "      <td>1434864</td>\n",
       "      <td>80.0</td>\n",
       "      <td>1427641</td>\n",
       "      <td>en</td>\n",
       "    </tr>\n",
       "  </tbody>\n",
       "</table>\n",
       "</div>"
      ],
      "text/plain": [
       "                                                                                                                                                                                                                                                                                                                                                                                                                                                     comments  \\\n",
       "7790                                                                                                                                                                                                                                                      Paul has a super nice place and is a super nice guy. The apartment is extremely clean and has an excellent location nestled between the Mission and Noe Valley. Definitely recommend his apartment!   \n",
       "10317                                                                                                                                                                                                                                                       Did not stay here. There was a challenge that was not resolved. Inflexible personality. I asked for and Lawrence refused to refund anything..  Mumbled under his breath how 'rediculous' we were.   \n",
       "12146                                                                                                                                                                                                                                                                                                                                                                                      He's great. Location is perfect, especially if you have a bicycle.   \n",
       "27172   Rebecca's studio is great. I felt completely at home with all the comforts and amenities that one could expect. Both the building and studio are very clean, modern and convenient to public transportation and San Francisco. Rebecca was very helpful and accommodating. I'd stay at her place again and would recommend anyone visiting SF to consider it as an excellent alternative to a hotel, especially if you prefer a modern accommodation.   \n",
       "507880                                                  Susie is a great hostess, very attentive and also gave me my privacy when I needed it. Unfortunately for things beyond her control, some kind of machinery malfunction or something from another apt, best we could figure, the room wasn't very quiet at night during the week I stayed. But otherwise it is a lovely place and I would return.\\r\\nSusie is very nice and has a loveable pooch Zoey!   \n",
       "\n",
       "             date  listing_id  reviewer_id  review_scores_rating  host_id  \\\n",
       "7790   2010-10-04       44680       140276                 100.0   196626   \n",
       "10317  2011-05-23       59831       501557                  20.0   287859   \n",
       "12146  2011-09-30       71779       654056                  60.0   368770   \n",
       "27172  2011-11-23      261358      1395774                  80.0  1257432   \n",
       "507880 2012-02-04      284811      1434864                  80.0  1427641   \n",
       "\n",
       "       language  \n",
       "7790         en  \n",
       "10317        en  \n",
       "12146        en  \n",
       "27172        en  \n",
       "507880       en  "
      ]
     },
     "execution_count": 4,
     "metadata": {},
     "output_type": "execute_result"
    }
   ],
   "source": [
    "print('Data shape:', df.shape)\n",
    "df.head()"
   ]
  },
  {
   "cell_type": "markdown",
   "metadata": {},
   "source": [
    "To do\n",
    "\n",
    "- Translate\n",
    "- strip puncutaion, lowercase, remove stop words\n",
    "- run spell check\n",
    "- tokenize\n",
    "- apply lemma and stemming to english\n"
   ]
  },
  {
   "cell_type": "markdown",
   "metadata": {},
   "source": [
    "### Text Processing"
   ]
  },
  {
   "cell_type": "markdown",
   "metadata": {},
   "source": [
    "**Translate Non-English Reviews**"
   ]
  },
  {
   "cell_type": "code",
   "execution_count": 5,
   "metadata": {},
   "outputs": [
    {
     "name": "stdout",
     "output_type": "stream",
     "text": [
      "# of languages in Reviews not in Google's Translator: 0\n"
     ]
    }
   ],
   "source": [
    "#Import Google translator\n",
    "import googletrans\n",
    "from googletrans import Translator\n",
    "\n",
    "#Check that all languages in review_langs is in google_langs\n",
    "print('# of languages in Reviews not in Google\\'s Translator:', len(df[~(df.language.isin(googletrans.LANGUAGES.keys()))].language.unique()))\n"
   ]
  },
  {
   "cell_type": "markdown",
   "metadata": {},
   "source": [
    "**Normalize english comments**"
   ]
  },
  {
   "cell_type": "markdown",
   "metadata": {},
   "source": [
    "*Until I figure out how to translate non-english reviews, we will leave them alone*"
   ]
  },
  {
   "cell_type": "markdown",
   "metadata": {},
   "source": [
    "**Data prep**"
   ]
  },
  {
   "cell_type": "code",
   "execution_count": 6,
   "metadata": {},
   "outputs": [
    {
     "data": {
      "text/plain": [
       "(36755, 7)"
      ]
     },
     "execution_count": 6,
     "metadata": {},
     "output_type": "execute_result"
    }
   ],
   "source": [
    "#Subset english reviews\n",
    "english_df = df.loc[df.language == 'en']\n",
    "\n",
    "#View shape\n",
    "english_df.shape"
   ]
  },
  {
   "cell_type": "markdown",
   "metadata": {},
   "source": [
    "**Normalize comments**\n",
    "\n",
    "Normalize meaning remove punctuation, lowercase all letters, and strip ghost-white space."
   ]
  },
  {
   "cell_type": "code",
   "execution_count": 7,
   "metadata": {},
   "outputs": [
    {
     "data": {
      "application/vnd.jupyter.widget-view+json": {
       "model_id": "59ab3a65a7104a4684db0c296fbefcba",
       "version_major": 2,
       "version_minor": 0
      },
      "text/plain": [
       "HBox(children=(FloatProgress(value=0.0, description='Pandas Apply', max=36755.0, style=ProgressStyle(descripti…"
      ]
     },
     "metadata": {},
     "output_type": "display_data"
    },
    {
     "name": "stdout",
     "output_type": "stream",
     "text": [
      "\n"
     ]
    },
    {
     "data": {
      "text/html": [
       "<div>\n",
       "<style scoped>\n",
       "    .dataframe tbody tr th:only-of-type {\n",
       "        vertical-align: middle;\n",
       "    }\n",
       "\n",
       "    .dataframe tbody tr th {\n",
       "        vertical-align: top;\n",
       "    }\n",
       "\n",
       "    .dataframe thead th {\n",
       "        text-align: right;\n",
       "    }\n",
       "</style>\n",
       "<table border=\"1\" class=\"dataframe\">\n",
       "  <thead>\n",
       "    <tr style=\"text-align: right;\">\n",
       "      <th></th>\n",
       "      <th>comments</th>\n",
       "      <th>date</th>\n",
       "      <th>listing_id</th>\n",
       "      <th>reviewer_id</th>\n",
       "      <th>review_scores_rating</th>\n",
       "      <th>host_id</th>\n",
       "      <th>language</th>\n",
       "      <th>comments_normalized</th>\n",
       "    </tr>\n",
       "  </thead>\n",
       "  <tbody>\n",
       "    <tr>\n",
       "      <th>7790</th>\n",
       "      <td>Paul has a super nice place and is a super nice guy. The apartment is extremely clean and has an excellent location nestled between the Mission and Noe Valley. Definitely recommend his apartment!</td>\n",
       "      <td>2010-10-04</td>\n",
       "      <td>44680</td>\n",
       "      <td>140276</td>\n",
       "      <td>100.0</td>\n",
       "      <td>196626</td>\n",
       "      <td>en</td>\n",
       "      <td>paul has a super nice place and is a super nice guy the apartment is extremely clean and has an excellent location nestled between the mission and noe valley definitely recommend his apartment</td>\n",
       "    </tr>\n",
       "    <tr>\n",
       "      <th>10317</th>\n",
       "      <td>Did not stay here. There was a challenge that was not resolved. Inflexible personality. I asked for and Lawrence refused to refund anything..  Mumbled under his breath how 'rediculous' we were.</td>\n",
       "      <td>2011-05-23</td>\n",
       "      <td>59831</td>\n",
       "      <td>501557</td>\n",
       "      <td>20.0</td>\n",
       "      <td>287859</td>\n",
       "      <td>en</td>\n",
       "      <td>did not stay here there was a challenge that was not resolved inflexible personality i asked for and lawrence refused to refund anything mumbled under his breath how rediculous we were</td>\n",
       "    </tr>\n",
       "    <tr>\n",
       "      <th>12146</th>\n",
       "      <td>He's great. Location is perfect, especially if you have a bicycle.</td>\n",
       "      <td>2011-09-30</td>\n",
       "      <td>71779</td>\n",
       "      <td>654056</td>\n",
       "      <td>60.0</td>\n",
       "      <td>368770</td>\n",
       "      <td>en</td>\n",
       "      <td>he s great location is perfect especially if you have a bicycle</td>\n",
       "    </tr>\n",
       "  </tbody>\n",
       "</table>\n",
       "</div>"
      ],
      "text/plain": [
       "                                                                                                                                                                                                  comments  \\\n",
       "7790   Paul has a super nice place and is a super nice guy. The apartment is extremely clean and has an excellent location nestled between the Mission and Noe Valley. Definitely recommend his apartment!   \n",
       "10317    Did not stay here. There was a challenge that was not resolved. Inflexible personality. I asked for and Lawrence refused to refund anything..  Mumbled under his breath how 'rediculous' we were.   \n",
       "12146                                                                                                                                   He's great. Location is perfect, especially if you have a bicycle.   \n",
       "\n",
       "            date  listing_id  reviewer_id  review_scores_rating  host_id  \\\n",
       "7790  2010-10-04       44680       140276                 100.0   196626   \n",
       "10317 2011-05-23       59831       501557                  20.0   287859   \n",
       "12146 2011-09-30       71779       654056                  60.0   368770   \n",
       "\n",
       "      language  \\\n",
       "7790        en   \n",
       "10317       en   \n",
       "12146       en   \n",
       "\n",
       "                                                                                                                                                                                     comments_normalized  \n",
       "7790   paul has a super nice place and is a super nice guy the apartment is extremely clean and has an excellent location nestled between the mission and noe valley definitely recommend his apartment   \n",
       "10317          did not stay here there was a challenge that was not resolved inflexible personality i asked for and lawrence refused to refund anything mumbled under his breath how rediculous we were   \n",
       "12146                                                                                                                                   he s great location is perfect especially if you have a bicycle   "
      ]
     },
     "metadata": {},
     "output_type": "display_data"
    }
   ],
   "source": [
    "#Import normalized_text\n",
    "from Text_Processors import normalized_text\n",
    "\n",
    "#Normalize comments\n",
    "english_df['comments_normalized'] = english_df['comments'].swifter.apply(normalized_text)\n",
    "\n",
    "#Check\n",
    "display(english_df.head(3))"
   ]
  },
  {
   "cell_type": "markdown",
   "metadata": {},
   "source": [
    "**Tokenize comments and apply spell check**"
   ]
  },
  {
   "cell_type": "code",
   "execution_count": 8,
   "metadata": {},
   "outputs": [],
   "source": [
    "#Import libraries\n",
    "import nltk\n",
    "import spacy\n",
    "import en_core_web_sm\n",
    "\n",
    "#Init spacy tokenizer and stop words\n",
    "nlp = en_core_web_sm.load()\n",
    "stopwords = spacy.lang.en.stop_words.STOP_WORDS\n",
    "\n",
    "#Tokenize comments_normalized\n",
    "english_df['tokens'] = english_df['comments_normalized'].swifter.apply(nlp)"
   ]
  },
  {
   "cell_type": "code",
   "execution_count": 16,
   "metadata": {},
   "outputs": [
    {
     "data": {
      "application/vnd.jupyter.widget-view+json": {
       "model_id": "a8c77f6501e04ea9807af8d0d526670f",
       "version_major": 2,
       "version_minor": 0
      },
      "text/plain": [
       "HBox(children=(FloatProgress(value=0.0, description='Pandas Apply', max=36755.0, style=ProgressStyle(descripti…"
      ]
     },
     "metadata": {},
     "output_type": "display_data"
    },
    {
     "name": "stdout",
     "output_type": "stream",
     "text": [
      "\n"
     ]
    }
   ],
   "source": [
    "english_df['tokens_nostop'] = english_df['tokens'].swifter.apply(lambda x: [token for token in x if token not in stopwords])"
   ]
  },
  {
   "cell_type": "markdown",
   "metadata": {},
   "source": [
    "### Feature Engineering"
   ]
  },
  {
   "cell_type": "markdown",
   "metadata": {},
   "source": [
    "**Comment word counts**"
   ]
  },
  {
   "cell_type": "code",
   "execution_count": 17,
   "metadata": {},
   "outputs": [
    {
     "data": {
      "text/html": [
       "<div>\n",
       "<style scoped>\n",
       "    .dataframe tbody tr th:only-of-type {\n",
       "        vertical-align: middle;\n",
       "    }\n",
       "\n",
       "    .dataframe tbody tr th {\n",
       "        vertical-align: top;\n",
       "    }\n",
       "\n",
       "    .dataframe thead th {\n",
       "        text-align: right;\n",
       "    }\n",
       "</style>\n",
       "<table border=\"1\" class=\"dataframe\">\n",
       "  <thead>\n",
       "    <tr style=\"text-align: right;\">\n",
       "      <th></th>\n",
       "      <th>comments</th>\n",
       "      <th>date</th>\n",
       "      <th>listing_id</th>\n",
       "      <th>reviewer_id</th>\n",
       "      <th>review_scores_rating</th>\n",
       "      <th>host_id</th>\n",
       "      <th>language</th>\n",
       "      <th>comments_normalized</th>\n",
       "      <th>tokens</th>\n",
       "      <th>word_count</th>\n",
       "      <th>new_tokens</th>\n",
       "      <th>tokens_nostop</th>\n",
       "    </tr>\n",
       "  </thead>\n",
       "  <tbody>\n",
       "    <tr>\n",
       "      <th>7790</th>\n",
       "      <td>Paul has a super nice place and is a super nice guy. The apartment is extremely clean and has an excellent location nestled between the Mission and Noe Valley. Definitely recommend his apartment!</td>\n",
       "      <td>2010-10-04</td>\n",
       "      <td>44680</td>\n",
       "      <td>140276</td>\n",
       "      <td>100.0</td>\n",
       "      <td>196626</td>\n",
       "      <td>en</td>\n",
       "      <td>paul has a super nice place and is a super nice guy the apartment is extremely clean and has an excellent location nestled between the mission and noe valley definitely recommend his apartment</td>\n",
       "      <td>(paul, has, a, super, nice, place, and, is, a, super, nice, guy, the, apartment, is, extremely, clean, and, has, an, excellent, location, nestled, between, the, mission, and, noe, valley, definitely, recommend, his, apartment)</td>\n",
       "      <td>33</td>\n",
       "      <td>(paul, has, a, super, nice, place, and, is, a, super, nice, guy, the, apartment, is, extremely, clean, and, has, an, excellent, location, nestled, between, the, mission, and, noe, valley, definitely, recommend, his, apartment)</td>\n",
       "      <td>[paul, has, a, super, nice, place, and, is, a, super, nice, guy, the, apartment, is, extremely, clean, and, has, an, excellent, location, nestled, between, the, mission, and, noe, valley, definitely, recommend, his, apartment]</td>\n",
       "    </tr>\n",
       "    <tr>\n",
       "      <th>10317</th>\n",
       "      <td>Did not stay here. There was a challenge that was not resolved. Inflexible personality. I asked for and Lawrence refused to refund anything..  Mumbled under his breath how 'rediculous' we were.</td>\n",
       "      <td>2011-05-23</td>\n",
       "      <td>59831</td>\n",
       "      <td>501557</td>\n",
       "      <td>20.0</td>\n",
       "      <td>287859</td>\n",
       "      <td>en</td>\n",
       "      <td>did not stay here there was a challenge that was not resolved inflexible personality i asked for and lawrence refused to refund anything mumbled under his breath how rediculous we were</td>\n",
       "      <td>(did, not, stay, here, there, was, a, challenge, that, was, not, resolved, inflexible, personality, i, asked, for, and, lawrence, refused, to, refund, anything, mumbled, under, his, breath, how, rediculous, we, were)</td>\n",
       "      <td>32</td>\n",
       "      <td>(did, not, stay, here, there, was, a, challenge, that, was, not, resolved, inflexible, personality, i, asked, for, and, lawrence, refused, to, refund, anything, mumbled, under, his, breath, how, rediculous, we, were)</td>\n",
       "      <td>[did, not, stay, here, there, was, a, challenge, that, was, not, resolved, inflexible, personality, i, asked, for, and, lawrence, refused, to, refund, anything, mumbled, under, his, breath, how, rediculous, we, were]</td>\n",
       "    </tr>\n",
       "    <tr>\n",
       "      <th>12146</th>\n",
       "      <td>He's great. Location is perfect, especially if you have a bicycle.</td>\n",
       "      <td>2011-09-30</td>\n",
       "      <td>71779</td>\n",
       "      <td>654056</td>\n",
       "      <td>60.0</td>\n",
       "      <td>368770</td>\n",
       "      <td>en</td>\n",
       "      <td>he s great location is perfect especially if you have a bicycle</td>\n",
       "      <td>(he, s, great, location, is, perfect, especially, if, you, have, a, bicycle)</td>\n",
       "      <td>11</td>\n",
       "      <td>(he, s, great, location, is, perfect, especially, if, you, have, a, bicycle)</td>\n",
       "      <td>[he, s, great, location, is, perfect, especially, if, you, have, a, bicycle]</td>\n",
       "    </tr>\n",
       "  </tbody>\n",
       "</table>\n",
       "</div>"
      ],
      "text/plain": [
       "                                                                                                                                                                                                  comments  \\\n",
       "7790   Paul has a super nice place and is a super nice guy. The apartment is extremely clean and has an excellent location nestled between the Mission and Noe Valley. Definitely recommend his apartment!   \n",
       "10317    Did not stay here. There was a challenge that was not resolved. Inflexible personality. I asked for and Lawrence refused to refund anything..  Mumbled under his breath how 'rediculous' we were.   \n",
       "12146                                                                                                                                   He's great. Location is perfect, especially if you have a bicycle.   \n",
       "\n",
       "            date  listing_id  reviewer_id  review_scores_rating  host_id  \\\n",
       "7790  2010-10-04       44680       140276                 100.0   196626   \n",
       "10317 2011-05-23       59831       501557                  20.0   287859   \n",
       "12146 2011-09-30       71779       654056                  60.0   368770   \n",
       "\n",
       "      language  \\\n",
       "7790        en   \n",
       "10317       en   \n",
       "12146       en   \n",
       "\n",
       "                                                                                                                                                                                     comments_normalized  \\\n",
       "7790   paul has a super nice place and is a super nice guy the apartment is extremely clean and has an excellent location nestled between the mission and noe valley definitely recommend his apartment    \n",
       "10317          did not stay here there was a challenge that was not resolved inflexible personality i asked for and lawrence refused to refund anything mumbled under his breath how rediculous we were    \n",
       "12146                                                                                                                                   he s great location is perfect especially if you have a bicycle    \n",
       "\n",
       "                                                                                                                                                                                                                                   tokens  \\\n",
       "7790   (paul, has, a, super, nice, place, and, is, a, super, nice, guy, the, apartment, is, extremely, clean, and, has, an, excellent, location, nestled, between, the, mission, and, noe, valley, definitely, recommend, his, apartment)   \n",
       "10317            (did, not, stay, here, there, was, a, challenge, that, was, not, resolved, inflexible, personality, i, asked, for, and, lawrence, refused, to, refund, anything, mumbled, under, his, breath, how, rediculous, we, were)   \n",
       "12146                                                                                                                                                        (he, s, great, location, is, perfect, especially, if, you, have, a, bicycle)   \n",
       "\n",
       "       word_count  \\\n",
       "7790           33   \n",
       "10317          32   \n",
       "12146          11   \n",
       "\n",
       "                                                                                                                                                                                                                               new_tokens  \\\n",
       "7790   (paul, has, a, super, nice, place, and, is, a, super, nice, guy, the, apartment, is, extremely, clean, and, has, an, excellent, location, nestled, between, the, mission, and, noe, valley, definitely, recommend, his, apartment)   \n",
       "10317            (did, not, stay, here, there, was, a, challenge, that, was, not, resolved, inflexible, personality, i, asked, for, and, lawrence, refused, to, refund, anything, mumbled, under, his, breath, how, rediculous, we, were)   \n",
       "12146                                                                                                                                                        (he, s, great, location, is, perfect, especially, if, you, have, a, bicycle)   \n",
       "\n",
       "                                                                                                                                                                                                                            tokens_nostop  \n",
       "7790   [paul, has, a, super, nice, place, and, is, a, super, nice, guy, the, apartment, is, extremely, clean, and, has, an, excellent, location, nestled, between, the, mission, and, noe, valley, definitely, recommend, his, apartment]  \n",
       "10317            [did, not, stay, here, there, was, a, challenge, that, was, not, resolved, inflexible, personality, i, asked, for, and, lawrence, refused, to, refund, anything, mumbled, under, his, breath, how, rediculous, we, were]  \n",
       "12146                                                                                                                                                        [he, s, great, location, is, perfect, especially, if, you, have, a, bicycle]  "
      ]
     },
     "metadata": {},
     "output_type": "display_data"
    }
   ],
   "source": [
    "#Count number of words in comments\n",
    "english_df['word_count'] = english_df['comments'].str.count(' ') + 1\n",
    "\n",
    "#Check\n",
    "display(english_df.head(3))"
   ]
  },
  {
   "cell_type": "markdown",
   "metadata": {},
   "source": [
    "### Preprocess data"
   ]
  },
  {
   "cell_type": "markdown",
   "metadata": {},
   "source": [
    "**Standardize data**"
   ]
  },
  {
   "cell_type": "markdown",
   "metadata": {},
   "source": [
    "- spell check tokens\n",
    "- Drop tokens only a few characters long \n",
    "- n grams(bi and tri)\n",
    "comments"
   ]
  }
 ],
 "metadata": {
  "kernelspec": {
   "display_name": "NLP",
   "language": "python",
   "name": "nlp"
  },
  "language_info": {
   "codemirror_mode": {
    "name": "ipython",
    "version": 3
   },
   "file_extension": ".py",
   "mimetype": "text/x-python",
   "name": "python",
   "nbconvert_exporter": "python",
   "pygments_lexer": "ipython3",
   "version": "3.7.7"
  }
 },
 "nbformat": 4,
 "nbformat_minor": 4
}
