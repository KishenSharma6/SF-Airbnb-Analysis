{
 "cells": [
  {
   "cell_type": "markdown",
   "metadata": {},
   "source": [
    "### Introduction\n",
    "\n",
    "In the following notebook, I will be preprocesing Reviews data from Airbnb for later modeling"
   ]
  },
  {
   "cell_type": "markdown",
   "metadata": {},
   "source": [
    "**Import libraries**"
   ]
  },
  {
   "cell_type": "code",
   "execution_count": 1,
   "metadata": {},
   "outputs": [],
   "source": [
    "import pandas as pd\n",
    "import swifter\n",
    "import spacy\n",
    "import warnings"
   ]
  },
  {
   "cell_type": "markdown",
   "metadata": {},
   "source": [
    "**Set notebook preferences**"
   ]
  },
  {
   "cell_type": "code",
   "execution_count": 2,
   "metadata": {},
   "outputs": [],
   "source": [
    "#Set pandas preferences\n",
    "pd.set_option('display.max_colwidth', 500)\n",
    "pd.set_option('display.max_rows', 200)\n",
    "\n",
    "#Surpress warnings\n",
    "warnings.filterwarnings('ignore')"
   ]
  },
  {
   "cell_type": "markdown",
   "metadata": {},
   "source": [
    "**Read in data**"
   ]
  },
  {
   "cell_type": "code",
   "execution_count": 3,
   "metadata": {},
   "outputs": [],
   "source": [
    "#Set path to reviews data\n",
    "path = r'C:\\Users\\kishe\\Documents\\Data Science\\Projects\\Python\\In Progress\\Airbnb - San Francisco\\Data\\02_Cleaned'\n",
    "\n",
    "#Read in reviews data\n",
    "df = pd.read_csv(path + '/2020_0526_Reviews_Cleaned.csv', parse_dates=['date'], dtype = {'host_id':'int'},\n",
    "                 index_col=0)"
   ]
  },
  {
   "cell_type": "markdown",
   "metadata": {},
   "source": [
    "**Preview data**"
   ]
  },
  {
   "cell_type": "code",
   "execution_count": 4,
   "metadata": {},
   "outputs": [
    {
     "name": "stdout",
     "output_type": "stream",
     "text": [
      "Data shape: (39192, 7)\n"
     ]
    },
    {
     "data": {
      "text/html": [
       "<div>\n",
       "<style scoped>\n",
       "    .dataframe tbody tr th:only-of-type {\n",
       "        vertical-align: middle;\n",
       "    }\n",
       "\n",
       "    .dataframe tbody tr th {\n",
       "        vertical-align: top;\n",
       "    }\n",
       "\n",
       "    .dataframe thead th {\n",
       "        text-align: right;\n",
       "    }\n",
       "</style>\n",
       "<table border=\"1\" class=\"dataframe\">\n",
       "  <thead>\n",
       "    <tr style=\"text-align: right;\">\n",
       "      <th></th>\n",
       "      <th>comments</th>\n",
       "      <th>date</th>\n",
       "      <th>listing_id</th>\n",
       "      <th>reviewer_id</th>\n",
       "      <th>review_scores_rating</th>\n",
       "      <th>host_id</th>\n",
       "      <th>language</th>\n",
       "    </tr>\n",
       "  </thead>\n",
       "  <tbody>\n",
       "    <tr>\n",
       "      <th>7790</th>\n",
       "      <td>Paul has a super nice place and is a super nice guy. The apartment is extremely clean and has an excellent location nestled between the Mission and Noe Valley. Definitely recommend his apartment!</td>\n",
       "      <td>2010-10-04</td>\n",
       "      <td>44680</td>\n",
       "      <td>140276</td>\n",
       "      <td>100.0</td>\n",
       "      <td>196626</td>\n",
       "      <td>en</td>\n",
       "    </tr>\n",
       "    <tr>\n",
       "      <th>10317</th>\n",
       "      <td>Did not stay here. There was a challenge that was not resolved. Inflexible personality. I asked for and Lawrence refused to refund anything..  Mumbled under his breath how 'rediculous' we were.</td>\n",
       "      <td>2011-05-23</td>\n",
       "      <td>59831</td>\n",
       "      <td>501557</td>\n",
       "      <td>20.0</td>\n",
       "      <td>287859</td>\n",
       "      <td>en</td>\n",
       "    </tr>\n",
       "    <tr>\n",
       "      <th>12146</th>\n",
       "      <td>He's great. Location is perfect, especially if you have a bicycle.</td>\n",
       "      <td>2011-09-30</td>\n",
       "      <td>71779</td>\n",
       "      <td>654056</td>\n",
       "      <td>60.0</td>\n",
       "      <td>368770</td>\n",
       "      <td>en</td>\n",
       "    </tr>\n",
       "    <tr>\n",
       "      <th>27172</th>\n",
       "      <td>Rebecca's studio is great. I felt completely at home with all the comforts and amenities that one could expect. Both the building and studio are very clean, modern and convenient to public transportation and San Francisco. Rebecca was very helpful and accommodating. I'd stay at her place again and would recommend anyone visiting SF to consider it as an excellent alternative to a hotel, especially if you prefer a modern accommodation.</td>\n",
       "      <td>2011-11-23</td>\n",
       "      <td>261358</td>\n",
       "      <td>1395774</td>\n",
       "      <td>80.0</td>\n",
       "      <td>1257432</td>\n",
       "      <td>en</td>\n",
       "    </tr>\n",
       "    <tr>\n",
       "      <th>507880</th>\n",
       "      <td>Susie is a great hostess, very attentive and also gave me my privacy when I needed it. Unfortunately for things beyond her control, some kind of machinery malfunction or something from another apt, best we could figure, the room wasn't very quiet at night during the week I stayed. But otherwise it is a lovely place and I would return.\\r\\nSusie is very nice and has a loveable pooch Zoey!</td>\n",
       "      <td>2012-02-04</td>\n",
       "      <td>284811</td>\n",
       "      <td>1434864</td>\n",
       "      <td>80.0</td>\n",
       "      <td>1427641</td>\n",
       "      <td>en</td>\n",
       "    </tr>\n",
       "  </tbody>\n",
       "</table>\n",
       "</div>"
      ],
      "text/plain": [
       "                                                                                                                                                                                                                                                                                                                                                                                                                                                     comments  \\\n",
       "7790                                                                                                                                                                                                                                                      Paul has a super nice place and is a super nice guy. The apartment is extremely clean and has an excellent location nestled between the Mission and Noe Valley. Definitely recommend his apartment!   \n",
       "10317                                                                                                                                                                                                                                                       Did not stay here. There was a challenge that was not resolved. Inflexible personality. I asked for and Lawrence refused to refund anything..  Mumbled under his breath how 'rediculous' we were.   \n",
       "12146                                                                                                                                                                                                                                                                                                                                                                                      He's great. Location is perfect, especially if you have a bicycle.   \n",
       "27172   Rebecca's studio is great. I felt completely at home with all the comforts and amenities that one could expect. Both the building and studio are very clean, modern and convenient to public transportation and San Francisco. Rebecca was very helpful and accommodating. I'd stay at her place again and would recommend anyone visiting SF to consider it as an excellent alternative to a hotel, especially if you prefer a modern accommodation.   \n",
       "507880                                                  Susie is a great hostess, very attentive and also gave me my privacy when I needed it. Unfortunately for things beyond her control, some kind of machinery malfunction or something from another apt, best we could figure, the room wasn't very quiet at night during the week I stayed. But otherwise it is a lovely place and I would return.\\r\\nSusie is very nice and has a loveable pooch Zoey!   \n",
       "\n",
       "             date  listing_id  reviewer_id  review_scores_rating  host_id  \\\n",
       "7790   2010-10-04       44680       140276                 100.0   196626   \n",
       "10317  2011-05-23       59831       501557                  20.0   287859   \n",
       "12146  2011-09-30       71779       654056                  60.0   368770   \n",
       "27172  2011-11-23      261358      1395774                  80.0  1257432   \n",
       "507880 2012-02-04      284811      1434864                  80.0  1427641   \n",
       "\n",
       "       language  \n",
       "7790         en  \n",
       "10317        en  \n",
       "12146        en  \n",
       "27172        en  \n",
       "507880       en  "
      ]
     },
     "execution_count": 4,
     "metadata": {},
     "output_type": "execute_result"
    }
   ],
   "source": [
    "print('Data shape:', df.shape)\n",
    "df.head()"
   ]
  },
  {
   "cell_type": "markdown",
   "metadata": {},
   "source": [
    "To do\n",
    "\n",
    "- Translate\n",
    "- strip puncutaion, lowercase, remove stop words\n",
    "- run spell check\n",
    "- tokenize\n",
    "- apply lemma and stemming to english\n"
   ]
  },
  {
   "cell_type": "markdown",
   "metadata": {},
   "source": [
    "### Text Processing"
   ]
  },
  {
   "cell_type": "markdown",
   "metadata": {},
   "source": [
    "**Translate Non-English Reviews**"
   ]
  },
  {
   "cell_type": "markdown",
   "metadata": {},
   "source": [
    "https://pypi.org/project/translate/\n",
    "\n",
    "There could be 2 reasons for this:\n",
    "1. IP address is temporarily blocked.\n",
    "2. You have reached the character limit.\n",
    "\n",
    "I faced the same issue and ended up using another package called translate and it works flawlessly. The syntax is pretty similar too. You can find it here or do pip install translate\n",
    "\n",
    "non_english_df = df.loc[df.language !='en']\n"
   ]
  },
  {
   "cell_type": "code",
   "execution_count": null,
   "metadata": {},
   "outputs": [],
   "source": []
  },
  {
   "cell_type": "code",
   "execution_count": null,
   "metadata": {},
   "outputs": [],
   "source": []
  },
  {
   "cell_type": "markdown",
   "metadata": {},
   "source": [
    "**Normalize english comments**"
   ]
  },
  {
   "cell_type": "markdown",
   "metadata": {},
   "source": [
    "*Until I figure out how to translate non-english reviews, we will leave them alone*"
   ]
  },
  {
   "cell_type": "markdown",
   "metadata": {},
   "source": [
    "**Data prep**"
   ]
  },
  {
   "cell_type": "code",
   "execution_count": 5,
   "metadata": {},
   "outputs": [
    {
     "data": {
      "text/plain": [
       "(36755, 7)"
      ]
     },
     "execution_count": 5,
     "metadata": {},
     "output_type": "execute_result"
    }
   ],
   "source": [
    "#Subset english reviews\n",
    "english_df = df.loc[df.language == 'en']\n",
    "\n",
    "#View shape\n",
    "english_df.shape"
   ]
  },
  {
   "cell_type": "markdown",
   "metadata": {},
   "source": [
    "**Normalize comments**\n",
    "\n",
    "Normalize meaning remove punctuation, lowercase all letters, and strip ghost-white space."
   ]
  },
  {
   "cell_type": "code",
   "execution_count": 6,
   "metadata": {},
   "outputs": [
    {
     "data": {
      "text/html": [
       "<div>\n",
       "<style scoped>\n",
       "    .dataframe tbody tr th:only-of-type {\n",
       "        vertical-align: middle;\n",
       "    }\n",
       "\n",
       "    .dataframe tbody tr th {\n",
       "        vertical-align: top;\n",
       "    }\n",
       "\n",
       "    .dataframe thead th {\n",
       "        text-align: right;\n",
       "    }\n",
       "</style>\n",
       "<table border=\"1\" class=\"dataframe\">\n",
       "  <thead>\n",
       "    <tr style=\"text-align: right;\">\n",
       "      <th></th>\n",
       "      <th>comments</th>\n",
       "      <th>date</th>\n",
       "      <th>listing_id</th>\n",
       "      <th>reviewer_id</th>\n",
       "      <th>review_scores_rating</th>\n",
       "      <th>host_id</th>\n",
       "      <th>language</th>\n",
       "      <th>comments_normalized</th>\n",
       "    </tr>\n",
       "  </thead>\n",
       "  <tbody>\n",
       "    <tr>\n",
       "      <th>7790</th>\n",
       "      <td>Paul has a super nice place and is a super nice guy. The apartment is extremely clean and has an excellent location nestled between the Mission and Noe Valley. Definitely recommend his apartment!</td>\n",
       "      <td>2010-10-04</td>\n",
       "      <td>44680</td>\n",
       "      <td>140276</td>\n",
       "      <td>100.0</td>\n",
       "      <td>196626</td>\n",
       "      <td>en</td>\n",
       "      <td>paul has a super nice place and is a super nice guy the apartment is extremely clean and has an excellent location nestled between the mission and noe valley definitely recommend his apartment</td>\n",
       "    </tr>\n",
       "    <tr>\n",
       "      <th>10317</th>\n",
       "      <td>Did not stay here. There was a challenge that was not resolved. Inflexible personality. I asked for and Lawrence refused to refund anything..  Mumbled under his breath how 'rediculous' we were.</td>\n",
       "      <td>2011-05-23</td>\n",
       "      <td>59831</td>\n",
       "      <td>501557</td>\n",
       "      <td>20.0</td>\n",
       "      <td>287859</td>\n",
       "      <td>en</td>\n",
       "      <td>did not stay here there was a challenge that was not resolved inflexible personality i asked for and lawrence refused to refund anything mumbled under his breath how rediculous we were</td>\n",
       "    </tr>\n",
       "    <tr>\n",
       "      <th>12146</th>\n",
       "      <td>He's great. Location is perfect, especially if you have a bicycle.</td>\n",
       "      <td>2011-09-30</td>\n",
       "      <td>71779</td>\n",
       "      <td>654056</td>\n",
       "      <td>60.0</td>\n",
       "      <td>368770</td>\n",
       "      <td>en</td>\n",
       "      <td>he s great location is perfect especially if you have a bicycle</td>\n",
       "    </tr>\n",
       "  </tbody>\n",
       "</table>\n",
       "</div>"
      ],
      "text/plain": [
       "                                                                                                                                                                                                  comments  \\\n",
       "7790   Paul has a super nice place and is a super nice guy. The apartment is extremely clean and has an excellent location nestled between the Mission and Noe Valley. Definitely recommend his apartment!   \n",
       "10317    Did not stay here. There was a challenge that was not resolved. Inflexible personality. I asked for and Lawrence refused to refund anything..  Mumbled under his breath how 'rediculous' we were.   \n",
       "12146                                                                                                                                   He's great. Location is perfect, especially if you have a bicycle.   \n",
       "\n",
       "            date  listing_id  reviewer_id  review_scores_rating  host_id  \\\n",
       "7790  2010-10-04       44680       140276                 100.0   196626   \n",
       "10317 2011-05-23       59831       501557                  20.0   287859   \n",
       "12146 2011-09-30       71779       654056                  60.0   368770   \n",
       "\n",
       "      language  \\\n",
       "7790        en   \n",
       "10317       en   \n",
       "12146       en   \n",
       "\n",
       "                                                                                                                                                                                     comments_normalized  \n",
       "7790   paul has a super nice place and is a super nice guy the apartment is extremely clean and has an excellent location nestled between the mission and noe valley definitely recommend his apartment   \n",
       "10317          did not stay here there was a challenge that was not resolved inflexible personality i asked for and lawrence refused to refund anything mumbled under his breath how rediculous we were   \n",
       "12146                                                                                                                                   he s great location is perfect especially if you have a bicycle   "
      ]
     },
     "metadata": {},
     "output_type": "display_data"
    }
   ],
   "source": [
    "#Import normalized_text\n",
    "from Text_Processors import normalized_text\n",
    "\n",
    "#Normalize comments\n",
    "english_df['comments_normalized'] = english_df['comments'].apply(normalized_text)\n",
    "\n",
    "display(english_df.head(3))"
   ]
  },
  {
   "cell_type": "markdown",
   "metadata": {},
   "source": [
    "**Tokenize and lemmatize comments**"
   ]
  },
  {
   "cell_type": "code",
   "execution_count": 7,
   "metadata": {},
   "outputs": [
    {
     "data": {
      "text/html": [
       "<div>\n",
       "<style scoped>\n",
       "    .dataframe tbody tr th:only-of-type {\n",
       "        vertical-align: middle;\n",
       "    }\n",
       "\n",
       "    .dataframe tbody tr th {\n",
       "        vertical-align: top;\n",
       "    }\n",
       "\n",
       "    .dataframe thead th {\n",
       "        text-align: right;\n",
       "    }\n",
       "</style>\n",
       "<table border=\"1\" class=\"dataframe\">\n",
       "  <thead>\n",
       "    <tr style=\"text-align: right;\">\n",
       "      <th></th>\n",
       "      <th>comments</th>\n",
       "      <th>date</th>\n",
       "      <th>listing_id</th>\n",
       "      <th>reviewer_id</th>\n",
       "      <th>review_scores_rating</th>\n",
       "      <th>host_id</th>\n",
       "      <th>language</th>\n",
       "      <th>comments_normalized</th>\n",
       "      <th>tokens_raw</th>\n",
       "      <th>tokens_clean</th>\n",
       "    </tr>\n",
       "  </thead>\n",
       "  <tbody>\n",
       "    <tr>\n",
       "      <th>7790</th>\n",
       "      <td>Paul has a super nice place and is a super nice guy. The apartment is extremely clean and has an excellent location nestled between the Mission and Noe Valley. Definitely recommend his apartment!</td>\n",
       "      <td>2010-10-04</td>\n",
       "      <td>44680</td>\n",
       "      <td>140276</td>\n",
       "      <td>100.0</td>\n",
       "      <td>196626</td>\n",
       "      <td>en</td>\n",
       "      <td>paul has a super nice place and is a super nice guy the apartment is extremely clean and has an excellent location nestled between the mission and noe valley definitely recommend his apartment</td>\n",
       "      <td>(paul, has, a, super, nice, place, and, is, a, super, nice, guy, the, apartment, is, extremely, clean, and, has, an, excellent, location, nestled, between, the, mission, and, noe, valley, definitely, recommend, his, apartment)</td>\n",
       "      <td>[paul, super, nice, place, super, nice, guy, apartment, extremely, clean, excellent, location, nestle, mission, noe, valley, definitely, recommend, apartment]</td>\n",
       "    </tr>\n",
       "    <tr>\n",
       "      <th>10317</th>\n",
       "      <td>Did not stay here. There was a challenge that was not resolved. Inflexible personality. I asked for and Lawrence refused to refund anything..  Mumbled under his breath how 'rediculous' we were.</td>\n",
       "      <td>2011-05-23</td>\n",
       "      <td>59831</td>\n",
       "      <td>501557</td>\n",
       "      <td>20.0</td>\n",
       "      <td>287859</td>\n",
       "      <td>en</td>\n",
       "      <td>did not stay here there was a challenge that was not resolved inflexible personality i asked for and lawrence refused to refund anything mumbled under his breath how rediculous we were</td>\n",
       "      <td>(did, not, stay, here, there, was, a, challenge, that, was, not, resolved, inflexible, personality, i, asked, for, and, lawrence, refused, to, refund, anything, mumbled, under, his, breath, how, rediculous, we, were)</td>\n",
       "      <td>[stay, challenge, resolve, inflexible, personality, ask, lawrence, refuse, refund, mumble, breath, rediculous]</td>\n",
       "    </tr>\n",
       "    <tr>\n",
       "      <th>12146</th>\n",
       "      <td>He's great. Location is perfect, especially if you have a bicycle.</td>\n",
       "      <td>2011-09-30</td>\n",
       "      <td>71779</td>\n",
       "      <td>654056</td>\n",
       "      <td>60.0</td>\n",
       "      <td>368770</td>\n",
       "      <td>en</td>\n",
       "      <td>he s great location is perfect especially if you have a bicycle</td>\n",
       "      <td>(he, s, great, location, is, perfect, especially, if, you, have, a, bicycle)</td>\n",
       "      <td>[s, great, location, perfect, especially, bicycle]</td>\n",
       "    </tr>\n",
       "  </tbody>\n",
       "</table>\n",
       "</div>"
      ],
      "text/plain": [
       "                                                                                                                                                                                                  comments  \\\n",
       "7790   Paul has a super nice place and is a super nice guy. The apartment is extremely clean and has an excellent location nestled between the Mission and Noe Valley. Definitely recommend his apartment!   \n",
       "10317    Did not stay here. There was a challenge that was not resolved. Inflexible personality. I asked for and Lawrence refused to refund anything..  Mumbled under his breath how 'rediculous' we were.   \n",
       "12146                                                                                                                                   He's great. Location is perfect, especially if you have a bicycle.   \n",
       "\n",
       "            date  listing_id  reviewer_id  review_scores_rating  host_id  \\\n",
       "7790  2010-10-04       44680       140276                 100.0   196626   \n",
       "10317 2011-05-23       59831       501557                  20.0   287859   \n",
       "12146 2011-09-30       71779       654056                  60.0   368770   \n",
       "\n",
       "      language  \\\n",
       "7790        en   \n",
       "10317       en   \n",
       "12146       en   \n",
       "\n",
       "                                                                                                                                                                                     comments_normalized  \\\n",
       "7790   paul has a super nice place and is a super nice guy the apartment is extremely clean and has an excellent location nestled between the mission and noe valley definitely recommend his apartment    \n",
       "10317          did not stay here there was a challenge that was not resolved inflexible personality i asked for and lawrence refused to refund anything mumbled under his breath how rediculous we were    \n",
       "12146                                                                                                                                   he s great location is perfect especially if you have a bicycle    \n",
       "\n",
       "                                                                                                                                                                                                                               tokens_raw  \\\n",
       "7790   (paul, has, a, super, nice, place, and, is, a, super, nice, guy, the, apartment, is, extremely, clean, and, has, an, excellent, location, nestled, between, the, mission, and, noe, valley, definitely, recommend, his, apartment)   \n",
       "10317            (did, not, stay, here, there, was, a, challenge, that, was, not, resolved, inflexible, personality, i, asked, for, and, lawrence, refused, to, refund, anything, mumbled, under, his, breath, how, rediculous, we, were)   \n",
       "12146                                                                                                                                                        (he, s, great, location, is, perfect, especially, if, you, have, a, bicycle)   \n",
       "\n",
       "                                                                                                                                                         tokens_clean  \n",
       "7790   [paul, super, nice, place, super, nice, guy, apartment, extremely, clean, excellent, location, nestle, mission, noe, valley, definitely, recommend, apartment]  \n",
       "10317                                                  [stay, challenge, resolve, inflexible, personality, ask, lawrence, refuse, refund, mumble, breath, rediculous]  \n",
       "12146                                                                                                              [s, great, location, perfect, especially, bicycle]  "
      ]
     },
     "metadata": {},
     "output_type": "display_data"
    }
   ],
   "source": [
    "#Import libraries\n",
    "import spacy\n",
    "import en_core_web_sm\n",
    "\n",
    "#Init spacy tokenizer and stop words\n",
    "nlp = spacy.load('en_core_web_sm')\n",
    "stopwords = nlp.Defaults.stop_words\n",
    "\n",
    "#Tokenize comments_normalized\n",
    "english_df['tokens_raw'] = [nlp.tokenizer(text) for text in english_df['comments_normalized']]\n",
    "\n",
    "#Remove stopwords and lemmatize tokens_raw\n",
    "english_df['tokens_clean'] = english_df['tokens_raw'].apply(lambda x: [token.lemma_ for token in x if not token.is_stop])\n",
    "\n",
    "#Check\n",
    "display(english_df.head(3))"
   ]
  },
  {
   "cell_type": "markdown",
   "metadata": {},
   "source": [
    "**Remove tokens that do not appear in X documents**"
   ]
  },
  {
   "cell_type": "code",
   "execution_count": 8,
   "metadata": {},
   "outputs": [
    {
     "data": {
      "text/html": [
       "<div>\n",
       "<style scoped>\n",
       "    .dataframe tbody tr th:only-of-type {\n",
       "        vertical-align: middle;\n",
       "    }\n",
       "\n",
       "    .dataframe tbody tr th {\n",
       "        vertical-align: top;\n",
       "    }\n",
       "\n",
       "    .dataframe thead th {\n",
       "        text-align: right;\n",
       "    }\n",
       "</style>\n",
       "<table border=\"1\" class=\"dataframe\">\n",
       "  <thead>\n",
       "    <tr style=\"text-align: right;\">\n",
       "      <th></th>\n",
       "      <th>comments</th>\n",
       "      <th>date</th>\n",
       "      <th>listing_id</th>\n",
       "      <th>reviewer_id</th>\n",
       "      <th>review_scores_rating</th>\n",
       "      <th>host_id</th>\n",
       "      <th>language</th>\n",
       "      <th>comments_normalized</th>\n",
       "      <th>tokens_raw</th>\n",
       "      <th>tokens_clean</th>\n",
       "    </tr>\n",
       "  </thead>\n",
       "  <tbody>\n",
       "    <tr>\n",
       "      <th>7790</th>\n",
       "      <td>Paul has a super nice place and is a super nice guy. The apartment is extremely clean and has an excellent location nestled between the Mission and Noe Valley. Definitely recommend his apartment!</td>\n",
       "      <td>2010-10-04</td>\n",
       "      <td>44680</td>\n",
       "      <td>140276</td>\n",
       "      <td>100.0</td>\n",
       "      <td>196626</td>\n",
       "      <td>en</td>\n",
       "      <td>paul has a super nice place and is a super nice guy the apartment is extremely clean and has an excellent location nestled between the mission and noe valley definitely recommend his apartment</td>\n",
       "      <td>(paul, has, a, super, nice, place, and, is, a, super, nice, guy, the, apartment, is, extremely, clean, and, has, an, excellent, location, nestled, between, the, mission, and, noe, valley, definitely, recommend, his, apartment)</td>\n",
       "      <td>[paul, super, nice, place, super, nice, guy, apartment, extremely, clean, excellent, location, nestle, mission, noe, valley, definitely, recommend, apartment]</td>\n",
       "    </tr>\n",
       "    <tr>\n",
       "      <th>10317</th>\n",
       "      <td>Did not stay here. There was a challenge that was not resolved. Inflexible personality. I asked for and Lawrence refused to refund anything..  Mumbled under his breath how 'rediculous' we were.</td>\n",
       "      <td>2011-05-23</td>\n",
       "      <td>59831</td>\n",
       "      <td>501557</td>\n",
       "      <td>20.0</td>\n",
       "      <td>287859</td>\n",
       "      <td>en</td>\n",
       "      <td>did not stay here there was a challenge that was not resolved inflexible personality i asked for and lawrence refused to refund anything mumbled under his breath how rediculous we were</td>\n",
       "      <td>(did, not, stay, here, there, was, a, challenge, that, was, not, resolved, inflexible, personality, i, asked, for, and, lawrence, refused, to, refund, anything, mumbled, under, his, breath, how, rediculous, we, were)</td>\n",
       "      <td>[stay, challenge, resolve, inflexible, personality, ask, lawrence, refuse, refund, mumble, breath, rediculous]</td>\n",
       "    </tr>\n",
       "    <tr>\n",
       "      <th>12146</th>\n",
       "      <td>He's great. Location is perfect, especially if you have a bicycle.</td>\n",
       "      <td>2011-09-30</td>\n",
       "      <td>71779</td>\n",
       "      <td>654056</td>\n",
       "      <td>60.0</td>\n",
       "      <td>368770</td>\n",
       "      <td>en</td>\n",
       "      <td>he s great location is perfect especially if you have a bicycle</td>\n",
       "      <td>(he, s, great, location, is, perfect, especially, if, you, have, a, bicycle)</td>\n",
       "      <td>[s, great, location, perfect, especially, bicycle]</td>\n",
       "    </tr>\n",
       "    <tr>\n",
       "      <th>27172</th>\n",
       "      <td>Rebecca's studio is great. I felt completely at home with all the comforts and amenities that one could expect. Both the building and studio are very clean, modern and convenient to public transportation and San Francisco. Rebecca was very helpful and accommodating. I'd stay at her place again and would recommend anyone visiting SF to consider it as an excellent alternative to a hotel, especially if you prefer a modern accommodation.</td>\n",
       "      <td>2011-11-23</td>\n",
       "      <td>261358</td>\n",
       "      <td>1395774</td>\n",
       "      <td>80.0</td>\n",
       "      <td>1257432</td>\n",
       "      <td>en</td>\n",
       "      <td>rebecca s studio is great i felt completely at home with all the comforts and amenities that one could expect both the building and studio are very clean modern and convenient to public transportation and san francisco rebecca was very helpful and accommodating i d stay at her place again and would recommend anyone visiting sf to consider it as an excellent alternative to a hotel especially if you prefer a modern accommodation</td>\n",
       "      <td>(rebecca, s, studio, is, great, i, felt, completely, at, home, with, all, the, comforts, and, amenities, that, one, could, expect, both, the, building, and, studio, are, very, clean, modern, and, convenient, to, public, transportation, and, san, francisco, rebecca, was, very, helpful, and, accommodating, i, d, stay, at, her, place, again, and, would, recommend, anyone, visiting, sf, to, consider, it, as, an, excellent, alternative, to, a, hotel, especially, if, you, prefer, a, modern, accomm...</td>\n",
       "      <td>[rebecca, s, studio, great, feel, completely, home, comfort, amenity, expect, build, studio, clean, modern, convenient, public, transportation, san, francisco, rebecca, helpful, accommodate, have, stay, place, recommend, visit, sf, consider, excellent, alternative, hotel, especially, prefer, modern, accommodation]</td>\n",
       "    </tr>\n",
       "    <tr>\n",
       "      <th>507880</th>\n",
       "      <td>Susie is a great hostess, very attentive and also gave me my privacy when I needed it. Unfortunately for things beyond her control, some kind of machinery malfunction or something from another apt, best we could figure, the room wasn't very quiet at night during the week I stayed. But otherwise it is a lovely place and I would return.\\r\\nSusie is very nice and has a loveable pooch Zoey!</td>\n",
       "      <td>2012-02-04</td>\n",
       "      <td>284811</td>\n",
       "      <td>1434864</td>\n",
       "      <td>80.0</td>\n",
       "      <td>1427641</td>\n",
       "      <td>en</td>\n",
       "      <td>susie is a great hostess very attentive and also gave me my privacy when i needed it unfortunately for things beyond her control some kind of machinery malfunction or something from another apt best we could figure the room wasn t very quiet at night during the week i stayed but otherwise it is a lovely place and i would return susie is very nice and has a loveable pooch zoey</td>\n",
       "      <td>(susie, is, a, great, hostess, very, attentive, and, also, gave, me, my, privacy, when, i, needed, it, unfortunately, for, things, beyond, her, control, some, kind, of, machinery, malfunction, or, something, from, another, apt, best, we, could, figure, the, room, wasn, t, very, quiet, at, night, during, the, week, i, stayed, but, otherwise, it, is, a, lovely, place, and, i, would, return, susie, is, very, nice, and, has, a, loveable, pooch, zoey)</td>\n",
       "      <td>[susie, great, hostess, attentive, give, privacy, need, unfortunately, thing, control, kind, machinery, malfunction, apt, well, figure, room, wasn, t, quiet, night, week, stay, lovely, place, return, susie, nice, loveable, pooch, zoey]</td>\n",
       "    </tr>\n",
       "  </tbody>\n",
       "</table>\n",
       "</div>"
      ],
      "text/plain": [
       "                                                                                                                                                                                                                                                                                                                                                                                                                                                     comments  \\\n",
       "7790                                                                                                                                                                                                                                                      Paul has a super nice place and is a super nice guy. The apartment is extremely clean and has an excellent location nestled between the Mission and Noe Valley. Definitely recommend his apartment!   \n",
       "10317                                                                                                                                                                                                                                                       Did not stay here. There was a challenge that was not resolved. Inflexible personality. I asked for and Lawrence refused to refund anything..  Mumbled under his breath how 'rediculous' we were.   \n",
       "12146                                                                                                                                                                                                                                                                                                                                                                                      He's great. Location is perfect, especially if you have a bicycle.   \n",
       "27172   Rebecca's studio is great. I felt completely at home with all the comforts and amenities that one could expect. Both the building and studio are very clean, modern and convenient to public transportation and San Francisco. Rebecca was very helpful and accommodating. I'd stay at her place again and would recommend anyone visiting SF to consider it as an excellent alternative to a hotel, especially if you prefer a modern accommodation.   \n",
       "507880                                                  Susie is a great hostess, very attentive and also gave me my privacy when I needed it. Unfortunately for things beyond her control, some kind of machinery malfunction or something from another apt, best we could figure, the room wasn't very quiet at night during the week I stayed. But otherwise it is a lovely place and I would return.\\r\\nSusie is very nice and has a loveable pooch Zoey!   \n",
       "\n",
       "             date  listing_id  reviewer_id  review_scores_rating  host_id  \\\n",
       "7790   2010-10-04       44680       140276                 100.0   196626   \n",
       "10317  2011-05-23       59831       501557                  20.0   287859   \n",
       "12146  2011-09-30       71779       654056                  60.0   368770   \n",
       "27172  2011-11-23      261358      1395774                  80.0  1257432   \n",
       "507880 2012-02-04      284811      1434864                  80.0  1427641   \n",
       "\n",
       "       language  \\\n",
       "7790         en   \n",
       "10317        en   \n",
       "12146        en   \n",
       "27172        en   \n",
       "507880       en   \n",
       "\n",
       "                                                                                                                                                                                                                                                                                                                                                                                                                                    comments_normalized  \\\n",
       "7790                                                                                                                                                                                                                                                  paul has a super nice place and is a super nice guy the apartment is extremely clean and has an excellent location nestled between the mission and noe valley definitely recommend his apartment    \n",
       "10317                                                                                                                                                                                                                                                         did not stay here there was a challenge that was not resolved inflexible personality i asked for and lawrence refused to refund anything mumbled under his breath how rediculous we were    \n",
       "12146                                                                                                                                                                                                                                                                                                                                                                                  he s great location is perfect especially if you have a bicycle    \n",
       "27172   rebecca s studio is great i felt completely at home with all the comforts and amenities that one could expect both the building and studio are very clean modern and convenient to public transportation and san francisco rebecca was very helpful and accommodating i d stay at her place again and would recommend anyone visiting sf to consider it as an excellent alternative to a hotel especially if you prefer a modern accommodation    \n",
       "507880                                                      susie is a great hostess very attentive and also gave me my privacy when i needed it unfortunately for things beyond her control some kind of machinery malfunction or something from another apt best we could figure the room wasn t very quiet at night during the week i stayed but otherwise it is a lovely place and i would return susie is very nice and has a loveable pooch zoey    \n",
       "\n",
       "                                                                                                                                                                                                                                                                                                                                                                                                                                                                                                                 tokens_raw  \\\n",
       "7790                                                                                                                                                                                                                                                                                     (paul, has, a, super, nice, place, and, is, a, super, nice, guy, the, apartment, is, extremely, clean, and, has, an, excellent, location, nestled, between, the, mission, and, noe, valley, definitely, recommend, his, apartment)   \n",
       "10317                                                                                                                                                                                                                                                                                              (did, not, stay, here, there, was, a, challenge, that, was, not, resolved, inflexible, personality, i, asked, for, and, lawrence, refused, to, refund, anything, mumbled, under, his, breath, how, rediculous, we, were)   \n",
       "12146                                                                                                                                                                                                                                                                                                                                                                                                                                          (he, s, great, location, is, perfect, especially, if, you, have, a, bicycle)   \n",
       "27172   (rebecca, s, studio, is, great, i, felt, completely, at, home, with, all, the, comforts, and, amenities, that, one, could, expect, both, the, building, and, studio, are, very, clean, modern, and, convenient, to, public, transportation, and, san, francisco, rebecca, was, very, helpful, and, accommodating, i, d, stay, at, her, place, again, and, would, recommend, anyone, visiting, sf, to, consider, it, as, an, excellent, alternative, to, a, hotel, especially, if, you, prefer, a, modern, accomm...   \n",
       "507880                                                   (susie, is, a, great, hostess, very, attentive, and, also, gave, me, my, privacy, when, i, needed, it, unfortunately, for, things, beyond, her, control, some, kind, of, machinery, malfunction, or, something, from, another, apt, best, we, could, figure, the, room, wasn, t, very, quiet, at, night, during, the, week, i, stayed, but, otherwise, it, is, a, lovely, place, and, i, would, return, susie, is, very, nice, and, has, a, loveable, pooch, zoey)   \n",
       "\n",
       "                                                                                                                                                                                                                                                                                                                       tokens_clean  \n",
       "7790                                                                                                                                                                 [paul, super, nice, place, super, nice, guy, apartment, extremely, clean, excellent, location, nestle, mission, noe, valley, definitely, recommend, apartment]  \n",
       "10317                                                                                                                                                                                                                [stay, challenge, resolve, inflexible, personality, ask, lawrence, refuse, refund, mumble, breath, rediculous]  \n",
       "12146                                                                                                                                                                                                                                                                            [s, great, location, perfect, especially, bicycle]  \n",
       "27172   [rebecca, s, studio, great, feel, completely, home, comfort, amenity, expect, build, studio, clean, modern, convenient, public, transportation, san, francisco, rebecca, helpful, accommodate, have, stay, place, recommend, visit, sf, consider, excellent, alternative, hotel, especially, prefer, modern, accommodation]  \n",
       "507880                                                                                  [susie, great, hostess, attentive, give, privacy, need, unfortunately, thing, control, kind, machinery, malfunction, apt, well, figure, room, wasn, t, quiet, night, week, stay, lovely, place, return, susie, nice, loveable, pooch, zoey]  "
      ]
     },
     "execution_count": 8,
     "metadata": {},
     "output_type": "execute_result"
    }
   ],
   "source": [
    "english_df.head()"
   ]
  },
  {
   "cell_type": "markdown",
   "metadata": {},
   "source": [
    "**Stem and Lemmatize tokens**"
   ]
  },
  {
   "cell_type": "markdown",
   "metadata": {},
   "source": [
    "### Feature Engineering"
   ]
  },
  {
   "cell_type": "markdown",
   "metadata": {},
   "source": [
    "**Comment word counts**"
   ]
  },
  {
   "cell_type": "code",
   "execution_count": 9,
   "metadata": {},
   "outputs": [
    {
     "data": {
      "text/html": [
       "<div>\n",
       "<style scoped>\n",
       "    .dataframe tbody tr th:only-of-type {\n",
       "        vertical-align: middle;\n",
       "    }\n",
       "\n",
       "    .dataframe tbody tr th {\n",
       "        vertical-align: top;\n",
       "    }\n",
       "\n",
       "    .dataframe thead th {\n",
       "        text-align: right;\n",
       "    }\n",
       "</style>\n",
       "<table border=\"1\" class=\"dataframe\">\n",
       "  <thead>\n",
       "    <tr style=\"text-align: right;\">\n",
       "      <th></th>\n",
       "      <th>comments</th>\n",
       "      <th>date</th>\n",
       "      <th>listing_id</th>\n",
       "      <th>reviewer_id</th>\n",
       "      <th>review_scores_rating</th>\n",
       "      <th>host_id</th>\n",
       "      <th>language</th>\n",
       "      <th>comments_normalized</th>\n",
       "      <th>tokens_raw</th>\n",
       "      <th>tokens_clean</th>\n",
       "      <th>word_count</th>\n",
       "    </tr>\n",
       "  </thead>\n",
       "  <tbody>\n",
       "    <tr>\n",
       "      <th>7790</th>\n",
       "      <td>Paul has a super nice place and is a super nice guy. The apartment is extremely clean and has an excellent location nestled between the Mission and Noe Valley. Definitely recommend his apartment!</td>\n",
       "      <td>2010-10-04</td>\n",
       "      <td>44680</td>\n",
       "      <td>140276</td>\n",
       "      <td>100.0</td>\n",
       "      <td>196626</td>\n",
       "      <td>en</td>\n",
       "      <td>paul has a super nice place and is a super nice guy the apartment is extremely clean and has an excellent location nestled between the mission and noe valley definitely recommend his apartment</td>\n",
       "      <td>(paul, has, a, super, nice, place, and, is, a, super, nice, guy, the, apartment, is, extremely, clean, and, has, an, excellent, location, nestled, between, the, mission, and, noe, valley, definitely, recommend, his, apartment)</td>\n",
       "      <td>[paul, super, nice, place, super, nice, guy, apartment, extremely, clean, excellent, location, nestle, mission, noe, valley, definitely, recommend, apartment]</td>\n",
       "      <td>33</td>\n",
       "    </tr>\n",
       "    <tr>\n",
       "      <th>10317</th>\n",
       "      <td>Did not stay here. There was a challenge that was not resolved. Inflexible personality. I asked for and Lawrence refused to refund anything..  Mumbled under his breath how 'rediculous' we were.</td>\n",
       "      <td>2011-05-23</td>\n",
       "      <td>59831</td>\n",
       "      <td>501557</td>\n",
       "      <td>20.0</td>\n",
       "      <td>287859</td>\n",
       "      <td>en</td>\n",
       "      <td>did not stay here there was a challenge that was not resolved inflexible personality i asked for and lawrence refused to refund anything mumbled under his breath how rediculous we were</td>\n",
       "      <td>(did, not, stay, here, there, was, a, challenge, that, was, not, resolved, inflexible, personality, i, asked, for, and, lawrence, refused, to, refund, anything, mumbled, under, his, breath, how, rediculous, we, were)</td>\n",
       "      <td>[stay, challenge, resolve, inflexible, personality, ask, lawrence, refuse, refund, mumble, breath, rediculous]</td>\n",
       "      <td>32</td>\n",
       "    </tr>\n",
       "    <tr>\n",
       "      <th>12146</th>\n",
       "      <td>He's great. Location is perfect, especially if you have a bicycle.</td>\n",
       "      <td>2011-09-30</td>\n",
       "      <td>71779</td>\n",
       "      <td>654056</td>\n",
       "      <td>60.0</td>\n",
       "      <td>368770</td>\n",
       "      <td>en</td>\n",
       "      <td>he s great location is perfect especially if you have a bicycle</td>\n",
       "      <td>(he, s, great, location, is, perfect, especially, if, you, have, a, bicycle)</td>\n",
       "      <td>[s, great, location, perfect, especially, bicycle]</td>\n",
       "      <td>11</td>\n",
       "    </tr>\n",
       "  </tbody>\n",
       "</table>\n",
       "</div>"
      ],
      "text/plain": [
       "                                                                                                                                                                                                  comments  \\\n",
       "7790   Paul has a super nice place and is a super nice guy. The apartment is extremely clean and has an excellent location nestled between the Mission and Noe Valley. Definitely recommend his apartment!   \n",
       "10317    Did not stay here. There was a challenge that was not resolved. Inflexible personality. I asked for and Lawrence refused to refund anything..  Mumbled under his breath how 'rediculous' we were.   \n",
       "12146                                                                                                                                   He's great. Location is perfect, especially if you have a bicycle.   \n",
       "\n",
       "            date  listing_id  reviewer_id  review_scores_rating  host_id  \\\n",
       "7790  2010-10-04       44680       140276                 100.0   196626   \n",
       "10317 2011-05-23       59831       501557                  20.0   287859   \n",
       "12146 2011-09-30       71779       654056                  60.0   368770   \n",
       "\n",
       "      language  \\\n",
       "7790        en   \n",
       "10317       en   \n",
       "12146       en   \n",
       "\n",
       "                                                                                                                                                                                     comments_normalized  \\\n",
       "7790   paul has a super nice place and is a super nice guy the apartment is extremely clean and has an excellent location nestled between the mission and noe valley definitely recommend his apartment    \n",
       "10317          did not stay here there was a challenge that was not resolved inflexible personality i asked for and lawrence refused to refund anything mumbled under his breath how rediculous we were    \n",
       "12146                                                                                                                                   he s great location is perfect especially if you have a bicycle    \n",
       "\n",
       "                                                                                                                                                                                                                               tokens_raw  \\\n",
       "7790   (paul, has, a, super, nice, place, and, is, a, super, nice, guy, the, apartment, is, extremely, clean, and, has, an, excellent, location, nestled, between, the, mission, and, noe, valley, definitely, recommend, his, apartment)   \n",
       "10317            (did, not, stay, here, there, was, a, challenge, that, was, not, resolved, inflexible, personality, i, asked, for, and, lawrence, refused, to, refund, anything, mumbled, under, his, breath, how, rediculous, we, were)   \n",
       "12146                                                                                                                                                        (he, s, great, location, is, perfect, especially, if, you, have, a, bicycle)   \n",
       "\n",
       "                                                                                                                                                         tokens_clean  \\\n",
       "7790   [paul, super, nice, place, super, nice, guy, apartment, extremely, clean, excellent, location, nestle, mission, noe, valley, definitely, recommend, apartment]   \n",
       "10317                                                  [stay, challenge, resolve, inflexible, personality, ask, lawrence, refuse, refund, mumble, breath, rediculous]   \n",
       "12146                                                                                                              [s, great, location, perfect, especially, bicycle]   \n",
       "\n",
       "       word_count  \n",
       "7790           33  \n",
       "10317          32  \n",
       "12146          11  "
      ]
     },
     "metadata": {},
     "output_type": "display_data"
    }
   ],
   "source": [
    "#Count number of words in comments\n",
    "english_df['word_count'] = english_df['comments'].str.count(' ') + 1\n",
    "\n",
    "#Check\n",
    "display(english_df.head(3))"
   ]
  },
  {
   "cell_type": "markdown",
   "metadata": {},
   "source": []
  },
  {
   "cell_type": "markdown",
   "metadata": {},
   "source": [
    "### Preprocess data"
   ]
  },
  {
   "cell_type": "markdown",
   "metadata": {},
   "source": [
    "**Standardize data**"
   ]
  },
  {
   "cell_type": "markdown",
   "metadata": {},
   "source": [
    "- spell check tokens\n",
    "- Drop tokens only a few characters long \n",
    "- n grams(bi and tri)\n",
    "comments"
   ]
  }
 ],
 "metadata": {
  "kernelspec": {
   "display_name": "NLP",
   "language": "python",
   "name": "nlp"
  },
  "language_info": {
   "codemirror_mode": {
    "name": "ipython",
    "version": 3
   },
   "file_extension": ".py",
   "mimetype": "text/x-python",
   "name": "python",
   "nbconvert_exporter": "python",
   "pygments_lexer": "ipython3",
   "version": "3.7.7"
  }
 },
 "nbformat": 4,
 "nbformat_minor": 4
}
