{
 "cells": [
  {
   "cell_type": "markdown",
   "metadata": {},
   "source": [
    "### Introduction\n",
    "\n",
    "In the following notebook, I will be preprocesing Reviews data from Airbnb for later modeling"
   ]
  },
  {
   "cell_type": "markdown",
   "metadata": {},
   "source": [
    "**Import libraries**"
   ]
  },
  {
   "cell_type": "code",
   "execution_count": 112,
   "metadata": {},
   "outputs": [],
   "source": [
    "import pandas as pd\n",
    "import swifter\n",
    "import spacy\n",
    "import warnings"
   ]
  },
  {
   "cell_type": "markdown",
   "metadata": {},
   "source": [
    "**Set notebook preferences**"
   ]
  },
  {
   "cell_type": "code",
   "execution_count": 113,
   "metadata": {},
   "outputs": [],
   "source": [
    "#Set pandas preferences\n",
    "pd.set_option('display.max_colwidth', 500)\n",
    "pd.set_option('display.max_rows', 200)\n",
    "\n",
    "#Surpress warnings\n",
    "warnings.filterwarnings('ignore')"
   ]
  },
  {
   "cell_type": "markdown",
   "metadata": {},
   "source": [
    "**Read in data**"
   ]
  },
  {
   "cell_type": "code",
   "execution_count": 114,
   "metadata": {},
   "outputs": [],
   "source": [
    "#Set path to reviews data\n",
    "path = r'C:\\Users\\kishe\\Documents\\Data Science\\Projects\\Python\\In Progress\\Airbnb - San Francisco\\Data\\02_Cleaned'\n",
    "\n",
    "#Read in reviews data\n",
    "df = pd.read_csv(path + '/2020_0526_Reviews_Cleaned.csv',\n",
    "                 index_col=0)"
   ]
  },
  {
   "cell_type": "markdown",
   "metadata": {},
   "source": [
    "**Preview data**"
   ]
  },
  {
   "cell_type": "code",
   "execution_count": 115,
   "metadata": {},
   "outputs": [
    {
     "name": "stdout",
     "output_type": "stream",
     "text": [
      "Data shape: (36753, 3)\n"
     ]
    },
    {
     "data": {
      "text/html": [
       "<div>\n",
       "<style scoped>\n",
       "    .dataframe tbody tr th:only-of-type {\n",
       "        vertical-align: middle;\n",
       "    }\n",
       "\n",
       "    .dataframe tbody tr th {\n",
       "        vertical-align: top;\n",
       "    }\n",
       "\n",
       "    .dataframe thead th {\n",
       "        text-align: right;\n",
       "    }\n",
       "</style>\n",
       "<table border=\"1\" class=\"dataframe\">\n",
       "  <thead>\n",
       "    <tr style=\"text-align: right;\">\n",
       "      <th></th>\n",
       "      <th>comments</th>\n",
       "      <th>review_scores_rating</th>\n",
       "      <th>language</th>\n",
       "    </tr>\n",
       "  </thead>\n",
       "  <tbody>\n",
       "    <tr>\n",
       "      <th>7790</th>\n",
       "      <td>Paul has a super nice place and is a super nice guy. The apartment is extremely clean and has an excellent location nestled between the Mission and Noe Valley. Definitely recommend his apartment!</td>\n",
       "      <td>100.0</td>\n",
       "      <td>en</td>\n",
       "    </tr>\n",
       "    <tr>\n",
       "      <th>10317</th>\n",
       "      <td>Did not stay here. There was a challenge that was not resolved. Inflexible personality. I asked for and Lawrence refused to refund anything..  Mumbled under his breath how 'rediculous' we were.</td>\n",
       "      <td>20.0</td>\n",
       "      <td>en</td>\n",
       "    </tr>\n",
       "    <tr>\n",
       "      <th>12146</th>\n",
       "      <td>He's great. Location is perfect, especially if you have a bicycle.</td>\n",
       "      <td>60.0</td>\n",
       "      <td>en</td>\n",
       "    </tr>\n",
       "    <tr>\n",
       "      <th>27172</th>\n",
       "      <td>Rebecca's studio is great. I felt completely at home with all the comforts and amenities that one could expect. Both the building and studio are very clean, modern and convenient to public transportation and San Francisco. Rebecca was very helpful and accommodating. I'd stay at her place again and would recommend anyone visiting SF to consider it as an excellent alternative to a hotel, especially if you prefer a modern accommodation.</td>\n",
       "      <td>80.0</td>\n",
       "      <td>en</td>\n",
       "    </tr>\n",
       "    <tr>\n",
       "      <th>507880</th>\n",
       "      <td>Susie is a great hostess, very attentive and also gave me my privacy when I needed it. Unfortunately for things beyond her control, some kind of machinery malfunction or something from another apt, best we could figure, the room wasn't very quiet at night during the week I stayed. But otherwise it is a lovely place and I would return.\\r\\nSusie is very nice and has a loveable pooch Zoey!</td>\n",
       "      <td>80.0</td>\n",
       "      <td>en</td>\n",
       "    </tr>\n",
       "  </tbody>\n",
       "</table>\n",
       "</div>"
      ],
      "text/plain": [
       "                                                                                                                                                                                                                                                                                                                                                                                                                                                     comments  \\\n",
       "7790                                                                                                                                                                                                                                                      Paul has a super nice place and is a super nice guy. The apartment is extremely clean and has an excellent location nestled between the Mission and Noe Valley. Definitely recommend his apartment!   \n",
       "10317                                                                                                                                                                                                                                                       Did not stay here. There was a challenge that was not resolved. Inflexible personality. I asked for and Lawrence refused to refund anything..  Mumbled under his breath how 'rediculous' we were.   \n",
       "12146                                                                                                                                                                                                                                                                                                                                                                                      He's great. Location is perfect, especially if you have a bicycle.   \n",
       "27172   Rebecca's studio is great. I felt completely at home with all the comforts and amenities that one could expect. Both the building and studio are very clean, modern and convenient to public transportation and San Francisco. Rebecca was very helpful and accommodating. I'd stay at her place again and would recommend anyone visiting SF to consider it as an excellent alternative to a hotel, especially if you prefer a modern accommodation.   \n",
       "507880                                                  Susie is a great hostess, very attentive and also gave me my privacy when I needed it. Unfortunately for things beyond her control, some kind of machinery malfunction or something from another apt, best we could figure, the room wasn't very quiet at night during the week I stayed. But otherwise it is a lovely place and I would return.\\r\\nSusie is very nice and has a loveable pooch Zoey!   \n",
       "\n",
       "        review_scores_rating language  \n",
       "7790                   100.0       en  \n",
       "10317                   20.0       en  \n",
       "12146                   60.0       en  \n",
       "27172                   80.0       en  \n",
       "507880                  80.0       en  "
      ]
     },
     "execution_count": 115,
     "metadata": {},
     "output_type": "execute_result"
    }
   ],
   "source": [
    "print('Data shape:', df.shape)\n",
    "df.head()"
   ]
  },
  {
   "cell_type": "markdown",
   "metadata": {},
   "source": [
    "### Text Processing"
   ]
  },
  {
   "cell_type": "markdown",
   "metadata": {},
   "source": [
    "**Normalize comments**"
   ]
  },
  {
   "cell_type": "code",
   "execution_count": 116,
   "metadata": {},
   "outputs": [
    {
     "data": {
      "text/html": [
       "<div>\n",
       "<style scoped>\n",
       "    .dataframe tbody tr th:only-of-type {\n",
       "        vertical-align: middle;\n",
       "    }\n",
       "\n",
       "    .dataframe tbody tr th {\n",
       "        vertical-align: top;\n",
       "    }\n",
       "\n",
       "    .dataframe thead th {\n",
       "        text-align: right;\n",
       "    }\n",
       "</style>\n",
       "<table border=\"1\" class=\"dataframe\">\n",
       "  <thead>\n",
       "    <tr style=\"text-align: right;\">\n",
       "      <th></th>\n",
       "      <th>comments</th>\n",
       "      <th>review_scores_rating</th>\n",
       "      <th>language</th>\n",
       "      <th>comments_normalized</th>\n",
       "    </tr>\n",
       "  </thead>\n",
       "  <tbody>\n",
       "    <tr>\n",
       "      <th>7790</th>\n",
       "      <td>Paul has a super nice place and is a super nice guy. The apartment is extremely clean and has an excellent location nestled between the Mission and Noe Valley. Definitely recommend his apartment!</td>\n",
       "      <td>100.0</td>\n",
       "      <td>en</td>\n",
       "      <td>paul has a super nice place and is a super nice guy the apartment is extremely clean and has an excellent location nestled between the mission and noe valley definitely recommend his apartment</td>\n",
       "    </tr>\n",
       "    <tr>\n",
       "      <th>10317</th>\n",
       "      <td>Did not stay here. There was a challenge that was not resolved. Inflexible personality. I asked for and Lawrence refused to refund anything..  Mumbled under his breath how 'rediculous' we were.</td>\n",
       "      <td>20.0</td>\n",
       "      <td>en</td>\n",
       "      <td>did not stay here there was a challenge that was not resolved inflexible personality i asked for and lawrence refused to refund anything mumbled under his breath how rediculous we were</td>\n",
       "    </tr>\n",
       "    <tr>\n",
       "      <th>12146</th>\n",
       "      <td>He's great. Location is perfect, especially if you have a bicycle.</td>\n",
       "      <td>60.0</td>\n",
       "      <td>en</td>\n",
       "      <td>he s great location is perfect especially if you have a bicycle</td>\n",
       "    </tr>\n",
       "  </tbody>\n",
       "</table>\n",
       "</div>"
      ],
      "text/plain": [
       "                                                                                                                                                                                                  comments  \\\n",
       "7790   Paul has a super nice place and is a super nice guy. The apartment is extremely clean and has an excellent location nestled between the Mission and Noe Valley. Definitely recommend his apartment!   \n",
       "10317    Did not stay here. There was a challenge that was not resolved. Inflexible personality. I asked for and Lawrence refused to refund anything..  Mumbled under his breath how 'rediculous' we were.   \n",
       "12146                                                                                                                                   He's great. Location is perfect, especially if you have a bicycle.   \n",
       "\n",
       "       review_scores_rating language  \\\n",
       "7790                  100.0       en   \n",
       "10317                  20.0       en   \n",
       "12146                  60.0       en   \n",
       "\n",
       "                                                                                                                                                                                     comments_normalized  \n",
       "7790   paul has a super nice place and is a super nice guy the apartment is extremely clean and has an excellent location nestled between the mission and noe valley definitely recommend his apartment   \n",
       "10317          did not stay here there was a challenge that was not resolved inflexible personality i asked for and lawrence refused to refund anything mumbled under his breath how rediculous we were   \n",
       "12146                                                                                                                                   he s great location is perfect especially if you have a bicycle   "
      ]
     },
     "metadata": {},
     "output_type": "display_data"
    }
   ],
   "source": [
    "#Import normalized_text\n",
    "from Text_Processors import normalized_text\n",
    "\n",
    "#Normalize comments\n",
    "df['comments_normalized'] = df['comments'].apply(normalized_text)\n",
    "\n",
    "display(df.head(3))"
   ]
  },
  {
   "cell_type": "markdown",
   "metadata": {},
   "source": [
    "**Tokenize, lemmatize, and add POS tags comments**"
   ]
  },
  {
   "cell_type": "code",
   "execution_count": 117,
   "metadata": {},
   "outputs": [
    {
     "data": {
      "application/vnd.jupyter.widget-view+json": {
       "model_id": "63424db8380b4dfbb61cc8787fb6205a",
       "version_major": 2,
       "version_minor": 0
      },
      "text/plain": [
       "HBox(children=(FloatProgress(value=0.0, description='Pandas Apply', max=36753.0, style=ProgressStyle(descripti…"
      ]
     },
     "metadata": {},
     "output_type": "display_data"
    },
    {
     "name": "stdout",
     "output_type": "stream",
     "text": [
      "\n"
     ]
    },
    {
     "data": {
      "text/html": [
       "<div>\n",
       "<style scoped>\n",
       "    .dataframe tbody tr th:only-of-type {\n",
       "        vertical-align: middle;\n",
       "    }\n",
       "\n",
       "    .dataframe tbody tr th {\n",
       "        vertical-align: top;\n",
       "    }\n",
       "\n",
       "    .dataframe thead th {\n",
       "        text-align: right;\n",
       "    }\n",
       "</style>\n",
       "<table border=\"1\" class=\"dataframe\">\n",
       "  <thead>\n",
       "    <tr style=\"text-align: right;\">\n",
       "      <th></th>\n",
       "      <th>comments</th>\n",
       "      <th>review_scores_rating</th>\n",
       "      <th>language</th>\n",
       "      <th>comments_normalized</th>\n",
       "      <th>tokens_raw</th>\n",
       "      <th>tokens_clean</th>\n",
       "      <th>tokens_clean_pos</th>\n",
       "    </tr>\n",
       "  </thead>\n",
       "  <tbody>\n",
       "    <tr>\n",
       "      <th>7790</th>\n",
       "      <td>Paul has a super nice place and is a super nice guy. The apartment is extremely clean and has an excellent location nestled between the Mission and Noe Valley. Definitely recommend his apartment!</td>\n",
       "      <td>100.0</td>\n",
       "      <td>en</td>\n",
       "      <td>paul has a super nice place and is a super nice guy the apartment is extremely clean and has an excellent location nestled between the mission and noe valley definitely recommend his apartment</td>\n",
       "      <td>(paul, has, a, super, nice, place, and, is, a, super, nice, guy, the, apartment, is, extremely, clean, and, has, an, excellent, location, nestled, between, the, mission, and, noe, valley, definitely, recommend, his, apartment)</td>\n",
       "      <td>[paul, super, nice, place, super, nice, guy, apartment, extremely, clean, excellent, location, nestle, mission, noe, valley, definitely, recommend, apartment]</td>\n",
       "      <td>[(paul, NN), (super, NN), (nice, JJ), (place, NN), (super, JJ), (nice, JJ), (guy, NN), (apartment, NN), (extremely, RB), (clean, JJ), (excellent, JJ), (location, NN), (nestle, JJ), (mission, NN), (noe, FW), (valley, NN), (definitely, RB), (recommend, JJ), (apartment, NN)]</td>\n",
       "    </tr>\n",
       "    <tr>\n",
       "      <th>10317</th>\n",
       "      <td>Did not stay here. There was a challenge that was not resolved. Inflexible personality. I asked for and Lawrence refused to refund anything..  Mumbled under his breath how 'rediculous' we were.</td>\n",
       "      <td>20.0</td>\n",
       "      <td>en</td>\n",
       "      <td>did not stay here there was a challenge that was not resolved inflexible personality i asked for and lawrence refused to refund anything mumbled under his breath how rediculous we were</td>\n",
       "      <td>(did, not, stay, here, there, was, a, challenge, that, was, not, resolved, inflexible, personality, i, asked, for, and, lawrence, refused, to, refund, anything, mumbled, under, his, breath, how, rediculous, we, were)</td>\n",
       "      <td>[stay, challenge, resolve, inflexible, personality, ask, lawrence, refuse, refund, mumble, breath, rediculous]</td>\n",
       "      <td>[(stay, NN), (challenge, NN), (resolve, VBP), (inflexible, JJ), (personality, NN), (ask, NN), (lawrence, NN), (refuse, NN), (refund, NN), (mumble, JJ), (breath, NN), (rediculous, JJ)]</td>\n",
       "    </tr>\n",
       "    <tr>\n",
       "      <th>12146</th>\n",
       "      <td>He's great. Location is perfect, especially if you have a bicycle.</td>\n",
       "      <td>60.0</td>\n",
       "      <td>en</td>\n",
       "      <td>he s great location is perfect especially if you have a bicycle</td>\n",
       "      <td>(he, s, great, location, is, perfect, especially, if, you, have, a, bicycle)</td>\n",
       "      <td>[great, location, perfect, especially, bicycle]</td>\n",
       "      <td>[(great, JJ), (location, NN), (perfect, NN), (especially, RB), (bicycle, VB)]</td>\n",
       "    </tr>\n",
       "  </tbody>\n",
       "</table>\n",
       "</div>"
      ],
      "text/plain": [
       "                                                                                                                                                                                                  comments  \\\n",
       "7790   Paul has a super nice place and is a super nice guy. The apartment is extremely clean and has an excellent location nestled between the Mission and Noe Valley. Definitely recommend his apartment!   \n",
       "10317    Did not stay here. There was a challenge that was not resolved. Inflexible personality. I asked for and Lawrence refused to refund anything..  Mumbled under his breath how 'rediculous' we were.   \n",
       "12146                                                                                                                                   He's great. Location is perfect, especially if you have a bicycle.   \n",
       "\n",
       "       review_scores_rating language  \\\n",
       "7790                  100.0       en   \n",
       "10317                  20.0       en   \n",
       "12146                  60.0       en   \n",
       "\n",
       "                                                                                                                                                                                     comments_normalized  \\\n",
       "7790   paul has a super nice place and is a super nice guy the apartment is extremely clean and has an excellent location nestled between the mission and noe valley definitely recommend his apartment    \n",
       "10317          did not stay here there was a challenge that was not resolved inflexible personality i asked for and lawrence refused to refund anything mumbled under his breath how rediculous we were    \n",
       "12146                                                                                                                                   he s great location is perfect especially if you have a bicycle    \n",
       "\n",
       "                                                                                                                                                                                                                               tokens_raw  \\\n",
       "7790   (paul, has, a, super, nice, place, and, is, a, super, nice, guy, the, apartment, is, extremely, clean, and, has, an, excellent, location, nestled, between, the, mission, and, noe, valley, definitely, recommend, his, apartment)   \n",
       "10317            (did, not, stay, here, there, was, a, challenge, that, was, not, resolved, inflexible, personality, i, asked, for, and, lawrence, refused, to, refund, anything, mumbled, under, his, breath, how, rediculous, we, were)   \n",
       "12146                                                                                                                                                        (he, s, great, location, is, perfect, especially, if, you, have, a, bicycle)   \n",
       "\n",
       "                                                                                                                                                         tokens_clean  \\\n",
       "7790   [paul, super, nice, place, super, nice, guy, apartment, extremely, clean, excellent, location, nestle, mission, noe, valley, definitely, recommend, apartment]   \n",
       "10317                                                  [stay, challenge, resolve, inflexible, personality, ask, lawrence, refuse, refund, mumble, breath, rediculous]   \n",
       "12146                                                                                                                 [great, location, perfect, especially, bicycle]   \n",
       "\n",
       "                                                                                                                                                                                                                                                                       tokens_clean_pos  \n",
       "7790   [(paul, NN), (super, NN), (nice, JJ), (place, NN), (super, JJ), (nice, JJ), (guy, NN), (apartment, NN), (extremely, RB), (clean, JJ), (excellent, JJ), (location, NN), (nestle, JJ), (mission, NN), (noe, FW), (valley, NN), (definitely, RB), (recommend, JJ), (apartment, NN)]  \n",
       "10317                                                                                           [(stay, NN), (challenge, NN), (resolve, VBP), (inflexible, JJ), (personality, NN), (ask, NN), (lawrence, NN), (refuse, NN), (refund, NN), (mumble, JJ), (breath, NN), (rediculous, JJ)]  \n",
       "12146                                                                                                                                                                                                     [(great, JJ), (location, NN), (perfect, NN), (especially, RB), (bicycle, VB)]  "
      ]
     },
     "metadata": {},
     "output_type": "display_data"
    }
   ],
   "source": [
    "#Import libraries\n",
    "import nltk\n",
    "import spacy\n",
    "import en_core_web_sm\n",
    "\n",
    "#Init spacy tokenizer and stop words\n",
    "nlp = spacy.load('en_core_web_sm')\n",
    "stopwords = nlp.Defaults.stop_words\n",
    "\n",
    "#Tokenize comments_normalized\n",
    "df['tokens_raw'] = [nlp.tokenizer(text) for text in df['comments_normalized']]\n",
    "\n",
    "#Remove stopwords, lemmatize tokens_raw, and remove tokens shorter than 2 characters\n",
    "df['tokens_clean'] = df['tokens_raw'].apply(lambda x: [token.lemma_ for token in x if not token.is_stop and len(token) >1])\n",
    "\n",
    "#Apply POS tags to tokens_clean\n",
    "df['tokens_clean_pos'] = df['tokens_clean'].swifter.apply(lambda x: nltk.pos_tag(x))\n",
    "\n",
    "#Check\n",
    "display(df.head(3))"
   ]
  },
  {
   "cell_type": "markdown",
   "metadata": {},
   "source": [
    "### Feature Engineering"
   ]
  },
  {
   "cell_type": "markdown",
   "metadata": {},
   "source": [
    "**Comment word counts**"
   ]
  },
  {
   "cell_type": "code",
   "execution_count": 118,
   "metadata": {},
   "outputs": [
    {
     "data": {
      "text/html": [
       "<div>\n",
       "<style scoped>\n",
       "    .dataframe tbody tr th:only-of-type {\n",
       "        vertical-align: middle;\n",
       "    }\n",
       "\n",
       "    .dataframe tbody tr th {\n",
       "        vertical-align: top;\n",
       "    }\n",
       "\n",
       "    .dataframe thead th {\n",
       "        text-align: right;\n",
       "    }\n",
       "</style>\n",
       "<table border=\"1\" class=\"dataframe\">\n",
       "  <thead>\n",
       "    <tr style=\"text-align: right;\">\n",
       "      <th></th>\n",
       "      <th>comments</th>\n",
       "      <th>review_scores_rating</th>\n",
       "      <th>language</th>\n",
       "      <th>comments_normalized</th>\n",
       "      <th>tokens_raw</th>\n",
       "      <th>tokens_clean</th>\n",
       "      <th>tokens_clean_pos</th>\n",
       "      <th>comments_word_count</th>\n",
       "    </tr>\n",
       "  </thead>\n",
       "  <tbody>\n",
       "    <tr>\n",
       "      <th>7790</th>\n",
       "      <td>Paul has a super nice place and is a super nice guy. The apartment is extremely clean and has an excellent location nestled between the Mission and Noe Valley. Definitely recommend his apartment!</td>\n",
       "      <td>100.0</td>\n",
       "      <td>en</td>\n",
       "      <td>paul has a super nice place and is a super nice guy the apartment is extremely clean and has an excellent location nestled between the mission and noe valley definitely recommend his apartment</td>\n",
       "      <td>(paul, has, a, super, nice, place, and, is, a, super, nice, guy, the, apartment, is, extremely, clean, and, has, an, excellent, location, nestled, between, the, mission, and, noe, valley, definitely, recommend, his, apartment)</td>\n",
       "      <td>[paul, super, nice, place, super, nice, guy, apartment, extremely, clean, excellent, location, nestle, mission, noe, valley, definitely, recommend, apartment]</td>\n",
       "      <td>[(paul, NN), (super, NN), (nice, JJ), (place, NN), (super, JJ), (nice, JJ), (guy, NN), (apartment, NN), (extremely, RB), (clean, JJ), (excellent, JJ), (location, NN), (nestle, JJ), (mission, NN), (noe, FW), (valley, NN), (definitely, RB), (recommend, JJ), (apartment, NN)]</td>\n",
       "      <td>33</td>\n",
       "    </tr>\n",
       "    <tr>\n",
       "      <th>10317</th>\n",
       "      <td>Did not stay here. There was a challenge that was not resolved. Inflexible personality. I asked for and Lawrence refused to refund anything..  Mumbled under his breath how 'rediculous' we were.</td>\n",
       "      <td>20.0</td>\n",
       "      <td>en</td>\n",
       "      <td>did not stay here there was a challenge that was not resolved inflexible personality i asked for and lawrence refused to refund anything mumbled under his breath how rediculous we were</td>\n",
       "      <td>(did, not, stay, here, there, was, a, challenge, that, was, not, resolved, inflexible, personality, i, asked, for, and, lawrence, refused, to, refund, anything, mumbled, under, his, breath, how, rediculous, we, were)</td>\n",
       "      <td>[stay, challenge, resolve, inflexible, personality, ask, lawrence, refuse, refund, mumble, breath, rediculous]</td>\n",
       "      <td>[(stay, NN), (challenge, NN), (resolve, VBP), (inflexible, JJ), (personality, NN), (ask, NN), (lawrence, NN), (refuse, NN), (refund, NN), (mumble, JJ), (breath, NN), (rediculous, JJ)]</td>\n",
       "      <td>32</td>\n",
       "    </tr>\n",
       "    <tr>\n",
       "      <th>12146</th>\n",
       "      <td>He's great. Location is perfect, especially if you have a bicycle.</td>\n",
       "      <td>60.0</td>\n",
       "      <td>en</td>\n",
       "      <td>he s great location is perfect especially if you have a bicycle</td>\n",
       "      <td>(he, s, great, location, is, perfect, especially, if, you, have, a, bicycle)</td>\n",
       "      <td>[great, location, perfect, especially, bicycle]</td>\n",
       "      <td>[(great, JJ), (location, NN), (perfect, NN), (especially, RB), (bicycle, VB)]</td>\n",
       "      <td>11</td>\n",
       "    </tr>\n",
       "  </tbody>\n",
       "</table>\n",
       "</div>"
      ],
      "text/plain": [
       "                                                                                                                                                                                                  comments  \\\n",
       "7790   Paul has a super nice place and is a super nice guy. The apartment is extremely clean and has an excellent location nestled between the Mission and Noe Valley. Definitely recommend his apartment!   \n",
       "10317    Did not stay here. There was a challenge that was not resolved. Inflexible personality. I asked for and Lawrence refused to refund anything..  Mumbled under his breath how 'rediculous' we were.   \n",
       "12146                                                                                                                                   He's great. Location is perfect, especially if you have a bicycle.   \n",
       "\n",
       "       review_scores_rating language  \\\n",
       "7790                  100.0       en   \n",
       "10317                  20.0       en   \n",
       "12146                  60.0       en   \n",
       "\n",
       "                                                                                                                                                                                     comments_normalized  \\\n",
       "7790   paul has a super nice place and is a super nice guy the apartment is extremely clean and has an excellent location nestled between the mission and noe valley definitely recommend his apartment    \n",
       "10317          did not stay here there was a challenge that was not resolved inflexible personality i asked for and lawrence refused to refund anything mumbled under his breath how rediculous we were    \n",
       "12146                                                                                                                                   he s great location is perfect especially if you have a bicycle    \n",
       "\n",
       "                                                                                                                                                                                                                               tokens_raw  \\\n",
       "7790   (paul, has, a, super, nice, place, and, is, a, super, nice, guy, the, apartment, is, extremely, clean, and, has, an, excellent, location, nestled, between, the, mission, and, noe, valley, definitely, recommend, his, apartment)   \n",
       "10317            (did, not, stay, here, there, was, a, challenge, that, was, not, resolved, inflexible, personality, i, asked, for, and, lawrence, refused, to, refund, anything, mumbled, under, his, breath, how, rediculous, we, were)   \n",
       "12146                                                                                                                                                        (he, s, great, location, is, perfect, especially, if, you, have, a, bicycle)   \n",
       "\n",
       "                                                                                                                                                         tokens_clean  \\\n",
       "7790   [paul, super, nice, place, super, nice, guy, apartment, extremely, clean, excellent, location, nestle, mission, noe, valley, definitely, recommend, apartment]   \n",
       "10317                                                  [stay, challenge, resolve, inflexible, personality, ask, lawrence, refuse, refund, mumble, breath, rediculous]   \n",
       "12146                                                                                                                 [great, location, perfect, especially, bicycle]   \n",
       "\n",
       "                                                                                                                                                                                                                                                                       tokens_clean_pos  \\\n",
       "7790   [(paul, NN), (super, NN), (nice, JJ), (place, NN), (super, JJ), (nice, JJ), (guy, NN), (apartment, NN), (extremely, RB), (clean, JJ), (excellent, JJ), (location, NN), (nestle, JJ), (mission, NN), (noe, FW), (valley, NN), (definitely, RB), (recommend, JJ), (apartment, NN)]   \n",
       "10317                                                                                           [(stay, NN), (challenge, NN), (resolve, VBP), (inflexible, JJ), (personality, NN), (ask, NN), (lawrence, NN), (refuse, NN), (refund, NN), (mumble, JJ), (breath, NN), (rediculous, JJ)]   \n",
       "12146                                                                                                                                                                                                     [(great, JJ), (location, NN), (perfect, NN), (especially, RB), (bicycle, VB)]   \n",
       "\n",
       "       comments_word_count  \n",
       "7790                    33  \n",
       "10317                   32  \n",
       "12146                   11  "
      ]
     },
     "metadata": {},
     "output_type": "display_data"
    }
   ],
   "source": [
    "#Count number of words in comments\n",
    "df['comments_word_count'] = df['comments'].str.count(' ') + 1\n",
    "\n",
    "#Check\n",
    "display(df.head(3))"
   ]
  },
  {
   "cell_type": "markdown",
   "metadata": {},
   "source": [
    "**Cluster scores and assign positive/negative/neutral label**"
   ]
  },
  {
   "cell_type": "code",
   "execution_count": 119,
   "metadata": {},
   "outputs": [
    {
     "name": "stdout",
     "output_type": "stream",
     "text": [
      "Custer centers found by kmeans:\n",
      " [[88.9625    ]\n",
      " [97.94612717]\n",
      " [58.66981132]]\n"
     ]
    }
   ],
   "source": [
    "#Init KMeans\n",
    "from sklearn.cluster import KMeans\n",
    "\n",
    "#Fit to data and print clusters\n",
    "kmeans = KMeans(n_clusters=3, random_state=24, n_jobs=-1, ).fit(df.review_scores_rating.values.reshape(-1,1))\n",
    "print('Custer centers found by kmeans:\\n',kmeans.cluster_centers_)"
   ]
  },
  {
   "cell_type": "code",
   "execution_count": 120,
   "metadata": {},
   "outputs": [
    {
     "data": {
      "text/html": [
       "<div>\n",
       "<style scoped>\n",
       "    .dataframe tbody tr th:only-of-type {\n",
       "        vertical-align: middle;\n",
       "    }\n",
       "\n",
       "    .dataframe tbody tr th {\n",
       "        vertical-align: top;\n",
       "    }\n",
       "\n",
       "    .dataframe thead th {\n",
       "        text-align: right;\n",
       "    }\n",
       "</style>\n",
       "<table border=\"1\" class=\"dataframe\">\n",
       "  <thead>\n",
       "    <tr style=\"text-align: right;\">\n",
       "      <th></th>\n",
       "      <th>comments</th>\n",
       "      <th>review_scores_rating</th>\n",
       "      <th>language</th>\n",
       "      <th>comments_normalized</th>\n",
       "      <th>tokens_raw</th>\n",
       "      <th>tokens_clean</th>\n",
       "      <th>tokens_clean_pos</th>\n",
       "      <th>comments_word_count</th>\n",
       "      <th>review_label</th>\n",
       "    </tr>\n",
       "  </thead>\n",
       "  <tbody>\n",
       "    <tr>\n",
       "      <th>7790</th>\n",
       "      <td>Paul has a super nice place and is a super nice guy. The apartment is extremely clean and has an excellent location nestled between the Mission and Noe Valley. Definitely recommend his apartment!</td>\n",
       "      <td>100.0</td>\n",
       "      <td>en</td>\n",
       "      <td>paul has a super nice place and is a super nice guy the apartment is extremely clean and has an excellent location nestled between the mission and noe valley definitely recommend his apartment</td>\n",
       "      <td>(paul, has, a, super, nice, place, and, is, a, super, nice, guy, the, apartment, is, extremely, clean, and, has, an, excellent, location, nestled, between, the, mission, and, noe, valley, definitely, recommend, his, apartment)</td>\n",
       "      <td>[paul, super, nice, place, super, nice, guy, apartment, extremely, clean, excellent, location, nestle, mission, noe, valley, definitely, recommend, apartment]</td>\n",
       "      <td>[(paul, NN), (super, NN), (nice, JJ), (place, NN), (super, JJ), (nice, JJ), (guy, NN), (apartment, NN), (extremely, RB), (clean, JJ), (excellent, JJ), (location, NN), (nestle, JJ), (mission, NN), (noe, FW), (valley, NN), (definitely, RB), (recommend, JJ), (apartment, NN)]</td>\n",
       "      <td>33</td>\n",
       "      <td>good</td>\n",
       "    </tr>\n",
       "    <tr>\n",
       "      <th>10317</th>\n",
       "      <td>Did not stay here. There was a challenge that was not resolved. Inflexible personality. I asked for and Lawrence refused to refund anything..  Mumbled under his breath how 'rediculous' we were.</td>\n",
       "      <td>20.0</td>\n",
       "      <td>en</td>\n",
       "      <td>did not stay here there was a challenge that was not resolved inflexible personality i asked for and lawrence refused to refund anything mumbled under his breath how rediculous we were</td>\n",
       "      <td>(did, not, stay, here, there, was, a, challenge, that, was, not, resolved, inflexible, personality, i, asked, for, and, lawrence, refused, to, refund, anything, mumbled, under, his, breath, how, rediculous, we, were)</td>\n",
       "      <td>[stay, challenge, resolve, inflexible, personality, ask, lawrence, refuse, refund, mumble, breath, rediculous]</td>\n",
       "      <td>[(stay, NN), (challenge, NN), (resolve, VBP), (inflexible, JJ), (personality, NN), (ask, NN), (lawrence, NN), (refuse, NN), (refund, NN), (mumble, JJ), (breath, NN), (rediculous, JJ)]</td>\n",
       "      <td>32</td>\n",
       "      <td>poor</td>\n",
       "    </tr>\n",
       "    <tr>\n",
       "      <th>12146</th>\n",
       "      <td>He's great. Location is perfect, especially if you have a bicycle.</td>\n",
       "      <td>60.0</td>\n",
       "      <td>en</td>\n",
       "      <td>he s great location is perfect especially if you have a bicycle</td>\n",
       "      <td>(he, s, great, location, is, perfect, especially, if, you, have, a, bicycle)</td>\n",
       "      <td>[great, location, perfect, especially, bicycle]</td>\n",
       "      <td>[(great, JJ), (location, NN), (perfect, NN), (especially, RB), (bicycle, VB)]</td>\n",
       "      <td>11</td>\n",
       "      <td>poor</td>\n",
       "    </tr>\n",
       "    <tr>\n",
       "      <th>27172</th>\n",
       "      <td>Rebecca's studio is great. I felt completely at home with all the comforts and amenities that one could expect. Both the building and studio are very clean, modern and convenient to public transportation and San Francisco. Rebecca was very helpful and accommodating. I'd stay at her place again and would recommend anyone visiting SF to consider it as an excellent alternative to a hotel, especially if you prefer a modern accommodation.</td>\n",
       "      <td>80.0</td>\n",
       "      <td>en</td>\n",
       "      <td>rebecca s studio is great i felt completely at home with all the comforts and amenities that one could expect both the building and studio are very clean modern and convenient to public transportation and san francisco rebecca was very helpful and accommodating i d stay at her place again and would recommend anyone visiting sf to consider it as an excellent alternative to a hotel especially if you prefer a modern accommodation</td>\n",
       "      <td>(rebecca, s, studio, is, great, i, felt, completely, at, home, with, all, the, comforts, and, amenities, that, one, could, expect, both, the, building, and, studio, are, very, clean, modern, and, convenient, to, public, transportation, and, san, francisco, rebecca, was, very, helpful, and, accommodating, i, d, stay, at, her, place, again, and, would, recommend, anyone, visiting, sf, to, consider, it, as, an, excellent, alternative, to, a, hotel, especially, if, you, prefer, a, modern, accomm...</td>\n",
       "      <td>[rebecca, studio, great, feel, completely, home, comfort, amenity, expect, build, studio, clean, modern, convenient, public, transportation, san, francisco, rebecca, helpful, accommodate, stay, place, recommend, visit, sf, consider, excellent, alternative, hotel, especially, prefer, modern, accommodation]</td>\n",
       "      <td>[(rebecca, NN), (studio, NN), (great, JJ), (feel, NN), (completely, RB), (home, NN), (comfort, NN), (amenity, NN), (expect, VBP), (build, JJ), (studio, NN), (clean, JJ), (modern, JJ), (convenient, NN), (public, JJ), (transportation, NN), (san, JJ), (francisco, NN), (rebecca, NN), (helpful, JJ), (accommodate, NN), (stay, NN), (place, NN), (recommend, VBP), (visit, NN), (sf, NN), (consider, VB), (excellent, JJ), (alternative, JJ), (hotel, NN), (especially, RB), (prefer, VBP), (modern, JJ), (ac...</td>\n",
       "      <td>71</td>\n",
       "      <td>great</td>\n",
       "    </tr>\n",
       "    <tr>\n",
       "      <th>507880</th>\n",
       "      <td>Susie is a great hostess, very attentive and also gave me my privacy when I needed it. Unfortunately for things beyond her control, some kind of machinery malfunction or something from another apt, best we could figure, the room wasn't very quiet at night during the week I stayed. But otherwise it is a lovely place and I would return.\\r\\nSusie is very nice and has a loveable pooch Zoey!</td>\n",
       "      <td>80.0</td>\n",
       "      <td>en</td>\n",
       "      <td>susie is a great hostess very attentive and also gave me my privacy when i needed it unfortunately for things beyond her control some kind of machinery malfunction or something from another apt best we could figure the room wasn t very quiet at night during the week i stayed but otherwise it is a lovely place and i would return susie is very nice and has a loveable pooch zoey</td>\n",
       "      <td>(susie, is, a, great, hostess, very, attentive, and, also, gave, me, my, privacy, when, i, needed, it, unfortunately, for, things, beyond, her, control, some, kind, of, machinery, malfunction, or, something, from, another, apt, best, we, could, figure, the, room, wasn, t, very, quiet, at, night, during, the, week, i, stayed, but, otherwise, it, is, a, lovely, place, and, i, would, return, susie, is, very, nice, and, has, a, loveable, pooch, zoey)</td>\n",
       "      <td>[susie, great, hostess, attentive, give, privacy, need, unfortunately, thing, control, kind, machinery, malfunction, apt, well, figure, room, wasn, quiet, night, week, stay, lovely, place, return, susie, nice, loveable, pooch, zoey]</td>\n",
       "      <td>[(susie, RB), (great, JJ), (hostess, JJ), (attentive, JJ), (give, NN), (privacy, NN), (need, VBP), (unfortunately, JJ), (thing, NN), (control, NN), (kind, NN), (machinery, NN), (malfunction, NN), (apt, RB), (well, RB), (figure, NN), (room, NN), (wasn, NN), (quiet, JJ), (night, NN), (week, NN), (stay, NN), (lovely, RB), (place, JJ), (return, NN), (susie, NN), (nice, JJ), (loveable, JJ), (pooch, NN), (zoey, NN)]</td>\n",
       "      <td>69</td>\n",
       "      <td>great</td>\n",
       "    </tr>\n",
       "  </tbody>\n",
       "</table>\n",
       "</div>"
      ],
      "text/plain": [
       "                                                                                                                                                                                                                                                                                                                                                                                                                                                     comments  \\\n",
       "7790                                                                                                                                                                                                                                                      Paul has a super nice place and is a super nice guy. The apartment is extremely clean and has an excellent location nestled between the Mission and Noe Valley. Definitely recommend his apartment!   \n",
       "10317                                                                                                                                                                                                                                                       Did not stay here. There was a challenge that was not resolved. Inflexible personality. I asked for and Lawrence refused to refund anything..  Mumbled under his breath how 'rediculous' we were.   \n",
       "12146                                                                                                                                                                                                                                                                                                                                                                                      He's great. Location is perfect, especially if you have a bicycle.   \n",
       "27172   Rebecca's studio is great. I felt completely at home with all the comforts and amenities that one could expect. Both the building and studio are very clean, modern and convenient to public transportation and San Francisco. Rebecca was very helpful and accommodating. I'd stay at her place again and would recommend anyone visiting SF to consider it as an excellent alternative to a hotel, especially if you prefer a modern accommodation.   \n",
       "507880                                                  Susie is a great hostess, very attentive and also gave me my privacy when I needed it. Unfortunately for things beyond her control, some kind of machinery malfunction or something from another apt, best we could figure, the room wasn't very quiet at night during the week I stayed. But otherwise it is a lovely place and I would return.\\r\\nSusie is very nice and has a loveable pooch Zoey!   \n",
       "\n",
       "        review_scores_rating language  \\\n",
       "7790                   100.0       en   \n",
       "10317                   20.0       en   \n",
       "12146                   60.0       en   \n",
       "27172                   80.0       en   \n",
       "507880                  80.0       en   \n",
       "\n",
       "                                                                                                                                                                                                                                                                                                                                                                                                                                    comments_normalized  \\\n",
       "7790                                                                                                                                                                                                                                                  paul has a super nice place and is a super nice guy the apartment is extremely clean and has an excellent location nestled between the mission and noe valley definitely recommend his apartment    \n",
       "10317                                                                                                                                                                                                                                                         did not stay here there was a challenge that was not resolved inflexible personality i asked for and lawrence refused to refund anything mumbled under his breath how rediculous we were    \n",
       "12146                                                                                                                                                                                                                                                                                                                                                                                  he s great location is perfect especially if you have a bicycle    \n",
       "27172   rebecca s studio is great i felt completely at home with all the comforts and amenities that one could expect both the building and studio are very clean modern and convenient to public transportation and san francisco rebecca was very helpful and accommodating i d stay at her place again and would recommend anyone visiting sf to consider it as an excellent alternative to a hotel especially if you prefer a modern accommodation    \n",
       "507880                                                      susie is a great hostess very attentive and also gave me my privacy when i needed it unfortunately for things beyond her control some kind of machinery malfunction or something from another apt best we could figure the room wasn t very quiet at night during the week i stayed but otherwise it is a lovely place and i would return susie is very nice and has a loveable pooch zoey    \n",
       "\n",
       "                                                                                                                                                                                                                                                                                                                                                                                                                                                                                                                 tokens_raw  \\\n",
       "7790                                                                                                                                                                                                                                                                                     (paul, has, a, super, nice, place, and, is, a, super, nice, guy, the, apartment, is, extremely, clean, and, has, an, excellent, location, nestled, between, the, mission, and, noe, valley, definitely, recommend, his, apartment)   \n",
       "10317                                                                                                                                                                                                                                                                                              (did, not, stay, here, there, was, a, challenge, that, was, not, resolved, inflexible, personality, i, asked, for, and, lawrence, refused, to, refund, anything, mumbled, under, his, breath, how, rediculous, we, were)   \n",
       "12146                                                                                                                                                                                                                                                                                                                                                                                                                                          (he, s, great, location, is, perfect, especially, if, you, have, a, bicycle)   \n",
       "27172   (rebecca, s, studio, is, great, i, felt, completely, at, home, with, all, the, comforts, and, amenities, that, one, could, expect, both, the, building, and, studio, are, very, clean, modern, and, convenient, to, public, transportation, and, san, francisco, rebecca, was, very, helpful, and, accommodating, i, d, stay, at, her, place, again, and, would, recommend, anyone, visiting, sf, to, consider, it, as, an, excellent, alternative, to, a, hotel, especially, if, you, prefer, a, modern, accomm...   \n",
       "507880                                                   (susie, is, a, great, hostess, very, attentive, and, also, gave, me, my, privacy, when, i, needed, it, unfortunately, for, things, beyond, her, control, some, kind, of, machinery, malfunction, or, something, from, another, apt, best, we, could, figure, the, room, wasn, t, very, quiet, at, night, during, the, week, i, stayed, but, otherwise, it, is, a, lovely, place, and, i, would, return, susie, is, very, nice, and, has, a, loveable, pooch, zoey)   \n",
       "\n",
       "                                                                                                                                                                                                                                                                                                              tokens_clean  \\\n",
       "7790                                                                                                                                                        [paul, super, nice, place, super, nice, guy, apartment, extremely, clean, excellent, location, nestle, mission, noe, valley, definitely, recommend, apartment]   \n",
       "10317                                                                                                                                                                                                       [stay, challenge, resolve, inflexible, personality, ask, lawrence, refuse, refund, mumble, breath, rediculous]   \n",
       "12146                                                                                                                                                                                                                                                                      [great, location, perfect, especially, bicycle]   \n",
       "27172   [rebecca, studio, great, feel, completely, home, comfort, amenity, expect, build, studio, clean, modern, convenient, public, transportation, san, francisco, rebecca, helpful, accommodate, stay, place, recommend, visit, sf, consider, excellent, alternative, hotel, especially, prefer, modern, accommodation]   \n",
       "507880                                                                            [susie, great, hostess, attentive, give, privacy, need, unfortunately, thing, control, kind, machinery, malfunction, apt, well, figure, room, wasn, quiet, night, week, stay, lovely, place, return, susie, nice, loveable, pooch, zoey]   \n",
       "\n",
       "                                                                                                                                                                                                                                                                                                                                                                                                                                                                                                           tokens_clean_pos  \\\n",
       "7790                                                                                                                                                                                                                                       [(paul, NN), (super, NN), (nice, JJ), (place, NN), (super, JJ), (nice, JJ), (guy, NN), (apartment, NN), (extremely, RB), (clean, JJ), (excellent, JJ), (location, NN), (nestle, JJ), (mission, NN), (noe, FW), (valley, NN), (definitely, RB), (recommend, JJ), (apartment, NN)]   \n",
       "10317                                                                                                                                                                                                                                                                                                                               [(stay, NN), (challenge, NN), (resolve, VBP), (inflexible, JJ), (personality, NN), (ask, NN), (lawrence, NN), (refuse, NN), (refund, NN), (mumble, JJ), (breath, NN), (rediculous, JJ)]   \n",
       "12146                                                                                                                                                                                                                                                                                                                                                                                                                                         [(great, JJ), (location, NN), (perfect, NN), (especially, RB), (bicycle, VB)]   \n",
       "27172   [(rebecca, NN), (studio, NN), (great, JJ), (feel, NN), (completely, RB), (home, NN), (comfort, NN), (amenity, NN), (expect, VBP), (build, JJ), (studio, NN), (clean, JJ), (modern, JJ), (convenient, NN), (public, JJ), (transportation, NN), (san, JJ), (francisco, NN), (rebecca, NN), (helpful, JJ), (accommodate, NN), (stay, NN), (place, NN), (recommend, VBP), (visit, NN), (sf, NN), (consider, VB), (excellent, JJ), (alternative, JJ), (hotel, NN), (especially, RB), (prefer, VBP), (modern, JJ), (ac...   \n",
       "507880                                                                                        [(susie, RB), (great, JJ), (hostess, JJ), (attentive, JJ), (give, NN), (privacy, NN), (need, VBP), (unfortunately, JJ), (thing, NN), (control, NN), (kind, NN), (machinery, NN), (malfunction, NN), (apt, RB), (well, RB), (figure, NN), (room, NN), (wasn, NN), (quiet, JJ), (night, NN), (week, NN), (stay, NN), (lovely, RB), (place, JJ), (return, NN), (susie, NN), (nice, JJ), (loveable, JJ), (pooch, NN), (zoey, NN)]   \n",
       "\n",
       "        comments_word_count review_label  \n",
       "7790                     33         good  \n",
       "10317                    32         poor  \n",
       "12146                    11         poor  \n",
       "27172                    71        great  \n",
       "507880                   69        great  "
      ]
     },
     "metadata": {},
     "output_type": "display_data"
    }
   ],
   "source": [
    "#Map labels to df to replace k_means labels\n",
    "labels = {0: 'great',\n",
    "         1: 'good',\n",
    "         2: 'poor'}\n",
    "\n",
    "#Convert and append review_labels to df\n",
    "review_labels = [labels[k] for k in kmeans.labels_]\n",
    "\n",
    "df['review_label'] = review_labels\n",
    "\n",
    "#Check\n",
    "display(df.head())"
   ]
  },
  {
   "cell_type": "markdown",
   "metadata": {},
   "source": [
    "# Write file to CSV"
   ]
  },
  {
   "cell_type": "code",
   "execution_count": 121,
   "metadata": {},
   "outputs": [],
   "source": [
    "#Set path\n",
    "path = r'C:\\Users\\kishe\\Documents\\Data Science\\Projects\\Python\\In Progress\\Airbnb - San Francisco\\Data\\03_Processed'\n",
    "\n",
    "#Write file\n",
    "df.to_csv(path + '/2020_0616_Reviews_Processed.csv')"
   ]
  }
 ],
 "metadata": {
  "kernelspec": {
   "display_name": "NLP",
   "language": "python",
   "name": "nlp"
  },
  "language_info": {
   "codemirror_mode": {
    "name": "ipython",
    "version": 3
   },
   "file_extension": ".py",
   "mimetype": "text/x-python",
   "name": "python",
   "nbconvert_exporter": "python",
   "pygments_lexer": "ipython3",
   "version": "3.7.7"
  }
 },
 "nbformat": 4,
 "nbformat_minor": 4
}
