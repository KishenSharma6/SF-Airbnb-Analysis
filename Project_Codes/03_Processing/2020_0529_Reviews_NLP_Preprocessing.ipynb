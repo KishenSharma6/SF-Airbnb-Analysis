{
 "cells": [
  {
   "cell_type": "markdown",
   "metadata": {},
   "source": [
    "### Introduction\n",
    "\n",
    "In the following notebook, I will be preprocesing Reviews data from Airbnb for later modeling"
   ]
  },
  {
   "cell_type": "markdown",
   "metadata": {},
   "source": [
    "**Import libraries**"
   ]
  },
  {
   "cell_type": "code",
   "execution_count": 25,
   "metadata": {},
   "outputs": [],
   "source": [
    "import pandas as pd\n",
    "import swifter\n",
    "import spacy\n",
    "import warnings"
   ]
  },
  {
   "cell_type": "markdown",
   "metadata": {},
   "source": [
    "**Set notebook preferences**"
   ]
  },
  {
   "cell_type": "code",
   "execution_count": 26,
   "metadata": {},
   "outputs": [],
   "source": [
    "#Set pandas preferences\n",
    "pd.set_option('display.max_colwidth', 500)\n",
    "pd.set_option('display.max_rows', 200)\n",
    "\n",
    "#Surpress warnings\n",
    "warnings.filterwarnings('ignore')"
   ]
  },
  {
   "cell_type": "markdown",
   "metadata": {},
   "source": [
    "**Read in data**"
   ]
  },
  {
   "cell_type": "code",
   "execution_count": 27,
   "metadata": {},
   "outputs": [],
   "source": [
    "#Set path to reviews data\n",
    "path = r'C:\\Users\\kishe\\Documents\\Data Science\\Projects\\Python\\In Progress\\Airbnb - San Francisco\\Data\\02_Cleaned'\n",
    "\n",
    "#Read in reviews data\n",
    "df = pd.read_csv(path + '/2020_0526_Reviews_Cleaned.csv', parse_dates=['date'], dtype = {'host_id':'int'},\n",
    "                 index_col=0)"
   ]
  },
  {
   "cell_type": "markdown",
   "metadata": {},
   "source": [
    "**Preview data**"
   ]
  },
  {
   "cell_type": "code",
   "execution_count": 28,
   "metadata": {},
   "outputs": [
    {
     "name": "stdout",
     "output_type": "stream",
     "text": [
      "Data shape: (39943, 6)\n"
     ]
    },
    {
     "data": {
      "text/html": [
       "<div>\n",
       "<style scoped>\n",
       "    .dataframe tbody tr th:only-of-type {\n",
       "        vertical-align: middle;\n",
       "    }\n",
       "\n",
       "    .dataframe tbody tr th {\n",
       "        vertical-align: top;\n",
       "    }\n",
       "\n",
       "    .dataframe thead th {\n",
       "        text-align: right;\n",
       "    }\n",
       "</style>\n",
       "<table border=\"1\" class=\"dataframe\">\n",
       "  <thead>\n",
       "    <tr style=\"text-align: right;\">\n",
       "      <th></th>\n",
       "      <th>comments</th>\n",
       "      <th>date</th>\n",
       "      <th>listing_id</th>\n",
       "      <th>reviewer_id</th>\n",
       "      <th>review_scores_rating</th>\n",
       "      <th>host_id</th>\n",
       "    </tr>\n",
       "  </thead>\n",
       "  <tbody>\n",
       "    <tr>\n",
       "      <th>7790</th>\n",
       "      <td>Paul has a super nice place and is a super nice guy. The apartment is extremely clean and has an excellent location nestled between the Mission and Noe Valley. Definitely recommend his apartment!</td>\n",
       "      <td>2010-10-04</td>\n",
       "      <td>44680</td>\n",
       "      <td>140276</td>\n",
       "      <td>100.0</td>\n",
       "      <td>196626</td>\n",
       "    </tr>\n",
       "    <tr>\n",
       "      <th>10317</th>\n",
       "      <td>Did not stay here. There was a challenge that was not resolved. Inflexible personality. I asked for and Lawrence refused to refund anything..  Mumbled under his breath how 'rediculous' we were.</td>\n",
       "      <td>2011-05-23</td>\n",
       "      <td>59831</td>\n",
       "      <td>501557</td>\n",
       "      <td>20.0</td>\n",
       "      <td>287859</td>\n",
       "    </tr>\n",
       "    <tr>\n",
       "      <th>12146</th>\n",
       "      <td>He's great. Location is perfect, especially if you have a bicycle.</td>\n",
       "      <td>2011-09-30</td>\n",
       "      <td>71779</td>\n",
       "      <td>654056</td>\n",
       "      <td>60.0</td>\n",
       "      <td>368770</td>\n",
       "    </tr>\n",
       "    <tr>\n",
       "      <th>27172</th>\n",
       "      <td>Rebecca's studio is great. I felt completely at home with all the comforts and amenities that one could expect. Both the building and studio are very clean, modern and convenient to public transportation and San Francisco. Rebecca was very helpful and accommodating. I'd stay at her place again and would recommend anyone visiting SF to consider it as an excellent alternative to a hotel, especially if you prefer a modern accommodation.</td>\n",
       "      <td>2011-11-23</td>\n",
       "      <td>261358</td>\n",
       "      <td>1395774</td>\n",
       "      <td>80.0</td>\n",
       "      <td>1257432</td>\n",
       "    </tr>\n",
       "    <tr>\n",
       "      <th>507880</th>\n",
       "      <td>Susie is a great hostess, very attentive and also gave me my privacy when I needed it. Unfortunately for things beyond her control, some kind of machinery malfunction or something from another apt, best we could figure, the room wasn't very quiet at night during the week I stayed. But otherwise it is a lovely place and I would return.\\r\\nSusie is very nice and has a loveable pooch Zoey!</td>\n",
       "      <td>2012-02-04</td>\n",
       "      <td>284811</td>\n",
       "      <td>1434864</td>\n",
       "      <td>80.0</td>\n",
       "      <td>1427641</td>\n",
       "    </tr>\n",
       "  </tbody>\n",
       "</table>\n",
       "</div>"
      ],
      "text/plain": [
       "                                                                                                                                                                                                                                                                                                                                                                                                                                                     comments  \\\n",
       "7790                                                                                                                                                                                                                                                      Paul has a super nice place and is a super nice guy. The apartment is extremely clean and has an excellent location nestled between the Mission and Noe Valley. Definitely recommend his apartment!   \n",
       "10317                                                                                                                                                                                                                                                       Did not stay here. There was a challenge that was not resolved. Inflexible personality. I asked for and Lawrence refused to refund anything..  Mumbled under his breath how 'rediculous' we were.   \n",
       "12146                                                                                                                                                                                                                                                                                                                                                                                      He's great. Location is perfect, especially if you have a bicycle.   \n",
       "27172   Rebecca's studio is great. I felt completely at home with all the comforts and amenities that one could expect. Both the building and studio are very clean, modern and convenient to public transportation and San Francisco. Rebecca was very helpful and accommodating. I'd stay at her place again and would recommend anyone visiting SF to consider it as an excellent alternative to a hotel, especially if you prefer a modern accommodation.   \n",
       "507880                                                  Susie is a great hostess, very attentive and also gave me my privacy when I needed it. Unfortunately for things beyond her control, some kind of machinery malfunction or something from another apt, best we could figure, the room wasn't very quiet at night during the week I stayed. But otherwise it is a lovely place and I would return.\\r\\nSusie is very nice and has a loveable pooch Zoey!   \n",
       "\n",
       "             date  listing_id  reviewer_id review_scores_rating  host_id  \n",
       "7790   2010-10-04       44680       140276                100.0   196626  \n",
       "10317  2011-05-23       59831       501557                 20.0   287859  \n",
       "12146  2011-09-30       71779       654056                 60.0   368770  \n",
       "27172  2011-11-23      261358      1395774                 80.0  1257432  \n",
       "507880 2012-02-04      284811      1434864                 80.0  1427641  "
      ]
     },
     "execution_count": 28,
     "metadata": {},
     "output_type": "execute_result"
    }
   ],
   "source": [
    "print('Data shape:', df.shape)\n",
    "df.head()"
   ]
  },
  {
   "cell_type": "markdown",
   "metadata": {},
   "source": [
    "To do\n",
    "\n",
    "- Translate\n",
    "- strip puncutaion, lowercase, remove stop words\n",
    "- run spell check\n",
    "- tokenize\n",
    "- apply lemma and stemming to english\n"
   ]
  },
  {
   "cell_type": "markdown",
   "metadata": {},
   "source": [
    "### Feature Engineering"
   ]
  },
  {
   "cell_type": "markdown",
   "metadata": {},
   "source": [
    "**Translate Non-English Reviews**"
   ]
  },
  {
   "cell_type": "code",
   "execution_count": 30,
   "metadata": {},
   "outputs": [
    {
     "name": "stdout",
     "output_type": "stream",
     "text": [
      "# of languages in Reviews not in Google's Translator: 0\n"
     ]
    }
   ],
   "source": [
    "#Import Google translator\n",
    "import googletrans\n",
    "from googletrans import Translator\n",
    "\n",
    "#Check that all languages in review_langs is in google_langs\n",
    "print('# of languages in Reviews not in Google\\'s Translator:', len(df[~(df.language.isin(googletrans.LANGUAGES.keys()))].language.unique()))\n"
   ]
  },
  {
   "cell_type": "markdown",
   "metadata": {},
   "source": [
    "**Normalize english comments**"
   ]
  },
  {
   "cell_type": "markdown",
   "metadata": {},
   "source": [
    "*Until I figure out how to translate non-english reviews, we will leave them alone*"
   ]
  },
  {
   "cell_type": "code",
   "execution_count": 31,
   "metadata": {},
   "outputs": [
    {
     "data": {
      "text/plain": [
       "(37432, 7)"
      ]
     },
     "execution_count": 31,
     "metadata": {},
     "output_type": "execute_result"
    }
   ],
   "source": [
    "#Subset english reviews\n",
    "english_df = df.loc[df.language == 'en']\n",
    "\n",
    "#View shape\n",
    "english_df.shape"
   ]
  },
  {
   "cell_type": "code",
   "execution_count": 32,
   "metadata": {},
   "outputs": [],
   "source": [
    "import nltk\n",
    "import spacy\n",
    "import en_core_web_sm"
   ]
  },
  {
   "cell_type": "code",
   "execution_count": 33,
   "metadata": {},
   "outputs": [
    {
     "name": "stdout",
     "output_type": "stream",
     "text": [
      "{'as', \"'re\", 'he', 'without', 'via', 'towards', 'nine', 'up', 'of', 'where', 'seems', '’s', 'while', 'whence', 'and', \"'m\", 'show', 'top', 'become', 'how', 'himself', 'unless', 'nor', 'call', 'whose', 'yourself', 'which', 'get', 'therefore', 'i', 'ourselves', 'very', 'part', 'whenever', 'everywhere', 'nothing', 'more', 'same', 'anyhow', 'move', 'first', 'already', 'what', 'off', 'with', 'under', 'mostly', 'rather', 'latter', 'former', 'herein', 'why', 'whither', 'yours', 'when', 'many', 'beside', 'or', 'should', 'along', 'made', 'next', 'will', 'my', 'eight', 'hereafter', 'thru', '’ll', 'once', 'wherever', 'such', 'thereafter', 'namely', 'beforehand', 'across', 'at', \"'s\", 'thus', 'formerly', 'us', 'became', 'sixty', 'were', 'most', 'ten', 'two', 'mine', 'although', 'might', 'something', 'about', 'side', 'to', 'make', 'on', 'therein', 'the', 'this', 'their', 'throughout', 'them', 'could', 'three', \"'ve\", 'alone', 'whereas', 'somewhere', 'still', 'through', 'meanwhile', 'empty', 'onto', 'ever', 'less', 'nowhere', 'per', 'seemed', 'we', 'from', 'forty', 'do', 'another', 'over', 'also', 'whole', 'being', 'often', 'who', 'one', 'not', 'either', 'doing', 'never', 'am', 'than', 'have', 'whatever', 'down', '‘re', 'are', 'no', \"'d\", 'fifty', 'too', 'wherein', '‘s', 'seeming', 'almost', 'myself', 'hence', 'upon', '‘ve', 'eleven', 'enough', 'sometimes', '‘d', 'least', 'someone', 'around', 'itself', 'is', 'quite', 'last', 'otherwise', 'amongst', 'twelve', 'been', '’ve', \"'ll\", '‘ll', 'so', 'among', 'further', 'perhaps', 'five', 'please', 'only', 'besides', 'his', 'an', 'beyond', 'me', 'herself', 'anywhere', 'be', 'much', 'fifteen', 'becoming', 'him', 'until', 'done', 'before', 'if', 'for', 'anyway', 'into', 'everything', 'during', 'six', 'thereupon', '’re', 'moreover', 'somehow', \"n't\", 'hereby', 'whom', 'whoever', 'these', 'all', 'serious', 'thence', 'whereupon', 'third', 'together', 'here', 'everyone', 'each', 'even', 'hereupon', 're', 'you', 'sometime', 'using', 'had', 'elsewhere', 'toward', 'just', 'neither', 'then', 'back', 'four', 'between', 'latterly', 'a', 'however', 'hundred', 'front', 'after', 'go', 'themselves', 'some', 'becomes', 'put', 'whether', 'keep', 'few', 'else', '’m', 'nobody', 'always', 'other', 'she', 'anyone', 'ca', 'n’t', 'her', 'whereby', 'since', 'full', 'those', 'seem', 'bottom', 'it', 'that', 'own', 'whereafter', 'except', 'indeed', 'well', 'below', 'every', 'your', 'may', 'really', 'any', 'hers', 'our', 'amount', 'within', 'though', 'can', 'did', 'due', 'see', 'n‘t', 'would', 'there', 'nevertheless', 'now', 'take', 'twenty', 'against', 'has', 'afterwards', '‘m', 'again', 'none', 'above', 'say', 'its', 'out', 'yet', 'regarding', 'in', 'was', 'because', 'various', 'yourselves', 'give', 'others', 'by', 'does', 'used', 'both', 'ours', 'anything', 'several', 'noone', 'but', 'behind', 'thereby', 'they', '’d', 'must', 'cannot', 'name'}\n"
     ]
    }
   ],
   "source": [
    "nlp = en_core_web_sm.load()\n",
    "stopwords = spacy.lang.en.stop_words.STOP_WORDS\n",
    "\n",
    "print(stopwords)"
   ]
  },
  {
   "cell_type": "code",
   "execution_count": 34,
   "metadata": {},
   "outputs": [
    {
     "data": {
      "application/vnd.jupyter.widget-view+json": {
       "model_id": "7ebe14ec5f254569829d3051cd0321a2",
       "version_major": 2,
       "version_minor": 0
      },
      "text/plain": [
       "HBox(children=(FloatProgress(value=0.0, description='Pandas Apply', max=37432.0, style=ProgressStyle(descripti…"
      ]
     },
     "metadata": {},
     "output_type": "display_data"
    },
    {
     "name": "stdout",
     "output_type": "stream",
     "text": [
      "\n"
     ]
    }
   ],
   "source": [
    "#lower case, remove punctuation,tokenize, remove stop words\n",
    "import re\n",
    "def normalized_tokens(comments):\n",
    "    \"\"\"\n",
    "    Series: series containing text you would like normalized.\n",
    "    Normalized meaning raw text is converted into lower-case w/ punctuation and stopwords removed, as well as tokenized\"\"\"\n",
    "    comments = comments.lower()\n",
    "    comments = re.sub(r'[^\\w\\s]+', ' ', comments) #Remove punctuation\n",
    "    comments= re.sub(r'\\s\\s+', ' ', comments) #Remove excess white spaces between text\n",
    "    comments.strip() #strip leading/trailing whitespace\n",
    "#     raw_tokens = nlp(comments)#tokenize\n",
    "#     clean_tokens = [word for word in raw_tokens if not word in stopwords]\n",
    "    return comments\n",
    "\n",
    "\n",
    "english_df['comments_normalized'] = english_df['comments'].swifter.apply(normalized_tokens)\n"
   ]
  },
  {
   "cell_type": "markdown",
   "metadata": {},
   "source": [
    "**Comments mentioning cancellation**"
   ]
  },
  {
   "cell_type": "code",
   "execution_count": 35,
   "metadata": {},
   "outputs": [
    {
     "data": {
      "text/plain": [
       "(36753, 8)"
      ]
     },
     "execution_count": 35,
     "metadata": {},
     "output_type": "execute_result"
    }
   ],
   "source": [
    "english_df = english_df.loc[~(df['comments'].str.contains('This is an automated posting.'))]\n",
    "\n",
    "english_df.shape"
   ]
  },
  {
   "cell_type": "markdown",
   "metadata": {},
   "source": [
    "**Comment word counts**"
   ]
  },
  {
   "cell_type": "code",
   "execution_count": 36,
   "metadata": {},
   "outputs": [
    {
     "data": {
      "text/html": [
       "<div>\n",
       "<style scoped>\n",
       "    .dataframe tbody tr th:only-of-type {\n",
       "        vertical-align: middle;\n",
       "    }\n",
       "\n",
       "    .dataframe tbody tr th {\n",
       "        vertical-align: top;\n",
       "    }\n",
       "\n",
       "    .dataframe thead th {\n",
       "        text-align: right;\n",
       "    }\n",
       "</style>\n",
       "<table border=\"1\" class=\"dataframe\">\n",
       "  <thead>\n",
       "    <tr style=\"text-align: right;\">\n",
       "      <th></th>\n",
       "      <th>comments</th>\n",
       "      <th>date</th>\n",
       "      <th>listing_id</th>\n",
       "      <th>reviewer_id</th>\n",
       "      <th>review_scores_rating</th>\n",
       "      <th>host_id</th>\n",
       "      <th>language</th>\n",
       "      <th>comments_tokens</th>\n",
       "      <th>word_count</th>\n",
       "    </tr>\n",
       "  </thead>\n",
       "  <tbody>\n",
       "    <tr>\n",
       "      <th>7790</th>\n",
       "      <td>Paul has a super nice place and is a super nice guy. The apartment is extremely clean and has an excellent location nestled between the Mission and Noe Valley. Definitely recommend his apartment!</td>\n",
       "      <td>2010-10-04</td>\n",
       "      <td>44680</td>\n",
       "      <td>140276</td>\n",
       "      <td>100.0</td>\n",
       "      <td>196626</td>\n",
       "      <td>en</td>\n",
       "      <td>paul has a super nice place and is a super nice guy the apartment is extremely clean and has an excellent location nestled between the mission and noe valley definitely recommend his apartment</td>\n",
       "      <td>33</td>\n",
       "    </tr>\n",
       "    <tr>\n",
       "      <th>10317</th>\n",
       "      <td>Did not stay here. There was a challenge that was not resolved. Inflexible personality. I asked for and Lawrence refused to refund anything..  Mumbled under his breath how 'rediculous' we were.</td>\n",
       "      <td>2011-05-23</td>\n",
       "      <td>59831</td>\n",
       "      <td>501557</td>\n",
       "      <td>20.0</td>\n",
       "      <td>287859</td>\n",
       "      <td>en</td>\n",
       "      <td>did not stay here there was a challenge that was not resolved inflexible personality i asked for and lawrence refused to refund anything mumbled under his breath how rediculous we were</td>\n",
       "      <td>32</td>\n",
       "    </tr>\n",
       "    <tr>\n",
       "      <th>12146</th>\n",
       "      <td>He's great. Location is perfect, especially if you have a bicycle.</td>\n",
       "      <td>2011-09-30</td>\n",
       "      <td>71779</td>\n",
       "      <td>654056</td>\n",
       "      <td>60.0</td>\n",
       "      <td>368770</td>\n",
       "      <td>en</td>\n",
       "      <td>he s great location is perfect especially if you have a bicycle</td>\n",
       "      <td>11</td>\n",
       "    </tr>\n",
       "    <tr>\n",
       "      <th>27172</th>\n",
       "      <td>Rebecca's studio is great. I felt completely at home with all the comforts and amenities that one could expect. Both the building and studio are very clean, modern and convenient to public transportation and San Francisco. Rebecca was very helpful and accommodating. I'd stay at her place again and would recommend anyone visiting SF to consider it as an excellent alternative to a hotel, especially if you prefer a modern accommodation.</td>\n",
       "      <td>2011-11-23</td>\n",
       "      <td>261358</td>\n",
       "      <td>1395774</td>\n",
       "      <td>80.0</td>\n",
       "      <td>1257432</td>\n",
       "      <td>en</td>\n",
       "      <td>rebecca s studio is great i felt completely at home with all the comforts and amenities that one could expect both the building and studio are very clean modern and convenient to public transportation and san francisco rebecca was very helpful and accommodating i d stay at her place again and would recommend anyone visiting sf to consider it as an excellent alternative to a hotel especially if you prefer a modern accommodation</td>\n",
       "      <td>71</td>\n",
       "    </tr>\n",
       "    <tr>\n",
       "      <th>507880</th>\n",
       "      <td>Susie is a great hostess, very attentive and also gave me my privacy when I needed it. Unfortunately for things beyond her control, some kind of machinery malfunction or something from another apt, best we could figure, the room wasn't very quiet at night during the week I stayed. But otherwise it is a lovely place and I would return.\\r\\nSusie is very nice and has a loveable pooch Zoey!</td>\n",
       "      <td>2012-02-04</td>\n",
       "      <td>284811</td>\n",
       "      <td>1434864</td>\n",
       "      <td>80.0</td>\n",
       "      <td>1427641</td>\n",
       "      <td>en</td>\n",
       "      <td>susie is a great hostess very attentive and also gave me my privacy when i needed it unfortunately for things beyond her control some kind of machinery malfunction or something from another apt best we could figure the room wasn t very quiet at night during the week i stayed but otherwise it is a lovely place and i would return susie is very nice and has a loveable pooch zoey</td>\n",
       "      <td>69</td>\n",
       "    </tr>\n",
       "    <tr>\n",
       "      <th>488284</th>\n",
       "      <td>Lynnore is a very friendly person with a great personality, and has lots of local SF knowledge.  Her place in Bernal Heights is close to a number of great restaurants and is just a short walk from the 24th and Mission BART.  She definitely made me feel at home, and was a great host!  A+</td>\n",
       "      <td>2012-08-11</td>\n",
       "      <td>598064</td>\n",
       "      <td>174446</td>\n",
       "      <td>97.0</td>\n",
       "      <td>1094388</td>\n",
       "      <td>en</td>\n",
       "      <td>lynnore is a very friendly person with a great personality and has lots of local sf knowledge her place in bernal heights is close to a number of great restaurants and is just a short walk from the 24th and mission bart she definitely made me feel at home and was a great host a</td>\n",
       "      <td>58</td>\n",
       "    </tr>\n",
       "    <tr>\n",
       "      <th>493290</th>\n",
       "      <td>We are two italians and we stayed at Josh's loft for 4 days. He is very hospitable and available! His loft is equipped with everything you need and comfortable.</td>\n",
       "      <td>2012-09-01</td>\n",
       "      <td>199334</td>\n",
       "      <td>2428097</td>\n",
       "      <td>99.0</td>\n",
       "      <td>648181</td>\n",
       "      <td>en</td>\n",
       "      <td>we are two italians and we stayed at josh s loft for 4 days he is very hospitable and available his loft is equipped with everything you need and comfortable</td>\n",
       "      <td>29</td>\n",
       "    </tr>\n",
       "    <tr>\n",
       "      <th>417223</th>\n",
       "      <td>Helena is an amazing host! Her apartment is absolutely stunning and at the best possible location in SF! She's also been very helpful and made sure that we have a smooth accommodation.</td>\n",
       "      <td>2012-09-14</td>\n",
       "      <td>511991</td>\n",
       "      <td>2686896</td>\n",
       "      <td>100.0</td>\n",
       "      <td>723220</td>\n",
       "      <td>en</td>\n",
       "      <td>helena is an amazing host her apartment is absolutely stunning and at the best possible location in sf she s also been very helpful and made sure that we have a smooth accommodation</td>\n",
       "      <td>32</td>\n",
       "    </tr>\n",
       "    <tr>\n",
       "      <th>488242</th>\n",
       "      <td>We spent a week at Owen and we really enjoyed our stay. It was perfect. The apartment is clean, spacious and bright, and it is located in a really nice and well served by public transport.\\r\\nCommunication with Owen was perfect. We had a very good experience. \\r\\nI highly recommend you to stay at Owen during your next visit to San Francisco !</td>\n",
       "      <td>2012-10-20</td>\n",
       "      <td>375168</td>\n",
       "      <td>1345310</td>\n",
       "      <td>100.0</td>\n",
       "      <td>170323</td>\n",
       "      <td>en</td>\n",
       "      <td>we spent a week at owen and we really enjoyed our stay it was perfect the apartment is clean spacious and bright and it is located in a really nice and well served by public transport communication with owen was perfect we had a very good experience i highly recommend you to stay at owen during your next visit to san francisco</td>\n",
       "      <td>62</td>\n",
       "    </tr>\n",
       "    <tr>\n",
       "      <th>8226</th>\n",
       "      <td>Had a pleasant stay at  Tom's home for 3 nights.  Safe and comfortable place for 2 adults and 2 young children.  Tom was very responsive to my inquires and was flexible with my check-in and check-out time.  He was nice enough to let us borrow his parking pass, but we ended up finding parking closer to the property so that wasn't too bad.  The home was well organized, clean and had everything we needed.  Love his huge solid wood dining table (fits 6 ppl).  Area was quiet and we felt really sa...</td>\n",
       "      <td>2012-11-13</td>\n",
       "      <td>51374</td>\n",
       "      <td>504203</td>\n",
       "      <td>100.0</td>\n",
       "      <td>236023</td>\n",
       "      <td>en</td>\n",
       "      <td>had a pleasant stay at tom s home for 3 nights safe and comfortable place for 2 adults and 2 young children tom was very responsive to my inquires and was flexible with my check in and check out time he was nice enough to let us borrow his parking pass but we ended up finding parking closer to the property so that wasn t too bad the home was well organized clean and had everything we needed love his huge solid wood dining table fits 6 ppl area was quiet and we felt really safe especially wit...</td>\n",
       "      <td>177</td>\n",
       "    </tr>\n",
       "  </tbody>\n",
       "</table>\n",
       "</div>"
      ],
      "text/plain": [
       "                                                                                                                                                                                                                                                                                                                                                                                                                                                                                                                   comments  \\\n",
       "7790                                                                                                                                                                                                                                                                                                                    Paul has a super nice place and is a super nice guy. The apartment is extremely clean and has an excellent location nestled between the Mission and Noe Valley. Definitely recommend his apartment!   \n",
       "10317                                                                                                                                                                                                                                                                                                                     Did not stay here. There was a challenge that was not resolved. Inflexible personality. I asked for and Lawrence refused to refund anything..  Mumbled under his breath how 'rediculous' we were.   \n",
       "12146                                                                                                                                                                                                                                                                                                                                                                                                                                                    He's great. Location is perfect, especially if you have a bicycle.   \n",
       "27172                                                                 Rebecca's studio is great. I felt completely at home with all the comforts and amenities that one could expect. Both the building and studio are very clean, modern and convenient to public transportation and San Francisco. Rebecca was very helpful and accommodating. I'd stay at her place again and would recommend anyone visiting SF to consider it as an excellent alternative to a hotel, especially if you prefer a modern accommodation.   \n",
       "507880                                                                                                                Susie is a great hostess, very attentive and also gave me my privacy when I needed it. Unfortunately for things beyond her control, some kind of machinery malfunction or something from another apt, best we could figure, the room wasn't very quiet at night during the week I stayed. But otherwise it is a lovely place and I would return.\\r\\nSusie is very nice and has a loveable pooch Zoey!   \n",
       "488284                                                                                                                                                                                                                      Lynnore is a very friendly person with a great personality, and has lots of local SF knowledge.  Her place in Bernal Heights is close to a number of great restaurants and is just a short walk from the 24th and Mission BART.  She definitely made me feel at home, and was a great host!  A+   \n",
       "493290                                                                                                                                                                                                                                                                                                                                                     We are two italians and we stayed at Josh's loft for 4 days. He is very hospitable and available! His loft is equipped with everything you need and comfortable.   \n",
       "417223                                                                                                                                                                                                                                                                                                                             Helena is an amazing host! Her apartment is absolutely stunning and at the best possible location in SF! She's also been very helpful and made sure that we have a smooth accommodation.   \n",
       "488242                                                                                                                                                             We spent a week at Owen and we really enjoyed our stay. It was perfect. The apartment is clean, spacious and bright, and it is located in a really nice and well served by public transport.\\r\\nCommunication with Owen was perfect. We had a very good experience. \\r\\nI highly recommend you to stay at Owen during your next visit to San Francisco !   \n",
       "8226    Had a pleasant stay at  Tom's home for 3 nights.  Safe and comfortable place for 2 adults and 2 young children.  Tom was very responsive to my inquires and was flexible with my check-in and check-out time.  He was nice enough to let us borrow his parking pass, but we ended up finding parking closer to the property so that wasn't too bad.  The home was well organized, clean and had everything we needed.  Love his huge solid wood dining table (fits 6 ppl).  Area was quiet and we felt really sa...   \n",
       "\n",
       "             date  listing_id  reviewer_id review_scores_rating  host_id  \\\n",
       "7790   2010-10-04       44680       140276                100.0   196626   \n",
       "10317  2011-05-23       59831       501557                 20.0   287859   \n",
       "12146  2011-09-30       71779       654056                 60.0   368770   \n",
       "27172  2011-11-23      261358      1395774                 80.0  1257432   \n",
       "507880 2012-02-04      284811      1434864                 80.0  1427641   \n",
       "488284 2012-08-11      598064       174446                 97.0  1094388   \n",
       "493290 2012-09-01      199334      2428097                 99.0   648181   \n",
       "417223 2012-09-14      511991      2686896                100.0   723220   \n",
       "488242 2012-10-20      375168      1345310                100.0   170323   \n",
       "8226   2012-11-13       51374       504203                100.0   236023   \n",
       "\n",
       "       language  \\\n",
       "7790         en   \n",
       "10317        en   \n",
       "12146        en   \n",
       "27172        en   \n",
       "507880       en   \n",
       "488284       en   \n",
       "493290       en   \n",
       "417223       en   \n",
       "488242       en   \n",
       "8226         en   \n",
       "\n",
       "                                                                                                                                                                                                                                                                                                                                                                                                                                                                                                            comments_tokens  \\\n",
       "7790                                                                                                                                                                                                                                                                                                                      paul has a super nice place and is a super nice guy the apartment is extremely clean and has an excellent location nestled between the mission and noe valley definitely recommend his apartment    \n",
       "10317                                                                                                                                                                                                                                                                                                                             did not stay here there was a challenge that was not resolved inflexible personality i asked for and lawrence refused to refund anything mumbled under his breath how rediculous we were    \n",
       "12146                                                                                                                                                                                                                                                                                                                                                                                                                                                      he s great location is perfect especially if you have a bicycle    \n",
       "27172                                                                       rebecca s studio is great i felt completely at home with all the comforts and amenities that one could expect both the building and studio are very clean modern and convenient to public transportation and san francisco rebecca was very helpful and accommodating i d stay at her place again and would recommend anyone visiting sf to consider it as an excellent alternative to a hotel especially if you prefer a modern accommodation    \n",
       "507880                                                                                                                          susie is a great hostess very attentive and also gave me my privacy when i needed it unfortunately for things beyond her control some kind of machinery malfunction or something from another apt best we could figure the room wasn t very quiet at night during the week i stayed but otherwise it is a lovely place and i would return susie is very nice and has a loveable pooch zoey    \n",
       "488284                                                                                                                                                                                                                              lynnore is a very friendly person with a great personality and has lots of local sf knowledge her place in bernal heights is close to a number of great restaurants and is just a short walk from the 24th and mission bart she definitely made me feel at home and was a great host a    \n",
       "493290                                                                                                                                                                                                                                                                                                                                                       we are two italians and we stayed at josh s loft for 4 days he is very hospitable and available his loft is equipped with everything you need and comfortable    \n",
       "417223                                                                                                                                                                                                                                                                                                                               helena is an amazing host her apartment is absolutely stunning and at the best possible location in sf she s also been very helpful and made sure that we have a smooth accommodation    \n",
       "488242                                                                                                                                                                            we spent a week at owen and we really enjoyed our stay it was perfect the apartment is clean spacious and bright and it is located in a really nice and well served by public transport communication with owen was perfect we had a very good experience i highly recommend you to stay at owen during your next visit to san francisco    \n",
       "8226    had a pleasant stay at tom s home for 3 nights safe and comfortable place for 2 adults and 2 young children tom was very responsive to my inquires and was flexible with my check in and check out time he was nice enough to let us borrow his parking pass but we ended up finding parking closer to the property so that wasn t too bad the home was well organized clean and had everything we needed love his huge solid wood dining table fits 6 ppl area was quiet and we felt really safe especially wit...   \n",
       "\n",
       "        word_count  \n",
       "7790            33  \n",
       "10317           32  \n",
       "12146           11  \n",
       "27172           71  \n",
       "507880          69  \n",
       "488284          58  \n",
       "493290          29  \n",
       "417223          32  \n",
       "488242          62  \n",
       "8226           177  "
      ]
     },
     "metadata": {},
     "output_type": "display_data"
    }
   ],
   "source": [
    "#Count number of words in comments\n",
    "english_df['word_count'] = english_df['comments'].str.count(' ') + 1\n",
    "\n",
    "#Check\n",
    "display(english_df.head(10))"
   ]
  },
  {
   "cell_type": "markdown",
   "metadata": {},
   "source": [
    "### Preprocess data"
   ]
  },
  {
   "cell_type": "markdown",
   "metadata": {},
   "source": [
    "**Standardize data**"
   ]
  },
  {
   "cell_type": "markdown",
   "metadata": {},
   "source": [
    "- commit changes to cleaning\n",
    "- create py file for cleaning and tokenization\n",
    "- remove rows with \n",
    "- Create tokens\n",
    "- remove stop words\n",
    "- spell check tokens\n",
    "- n grams(bi and tri)\n",
    "comments"
   ]
  }
 ],
 "metadata": {
  "kernelspec": {
   "display_name": "NLP",
   "language": "python",
   "name": "nlp"
  },
  "language_info": {
   "codemirror_mode": {
    "name": "ipython",
    "version": 3
   },
   "file_extension": ".py",
   "mimetype": "text/x-python",
   "name": "python",
   "nbconvert_exporter": "python",
   "pygments_lexer": "ipython3",
   "version": "3.7.7"
  }
 },
 "nbformat": 4,
 "nbformat_minor": 4
}
